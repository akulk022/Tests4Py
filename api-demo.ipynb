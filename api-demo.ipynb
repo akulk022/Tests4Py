{
 "cells": [
  {
   "cell_type": "markdown",
   "metadata": {},
   "source": [
    "# Tests4Py API Demonstration\n",
    "\n",
    "In this short demonstration we want to show the usage of _Tests4Py_ directly from a Python script leveraging its\n",
    "built-in API."
   ]
  },
  {
   "cell_type": "markdown",
   "metadata": {},
   "source": [
    "## Installing Tests4Py\n",
    "\n",
    "First lets install the _Tests4Py_ benchmark."
   ]
  },
  {
   "cell_type": "code",
   "execution_count": 1,
   "metadata": {
    "collapsed": false,
    "jupyter": {
     "outputs_hidden": false
    },
    "ExecuteTime": {
     "end_time": "2023-05-17T13:51:33.609308Z",
     "start_time": "2023-05-17T13:51:31.455627Z"
    }
   },
   "outputs": [
    {
     "name": "stdout",
     "output_type": "stream",
     "text": [
      "Requirement already satisfied: tests4py in ./src (0.0.1a0)\r\n",
      "Requirement already satisfied: fuzzingbook>=1.1 in ./venv/lib/python3.10/site-packages (from tests4py) (1.1)\r\n",
      "Requirement already satisfied: isla-solver>=1.10 in ./venv/lib/python3.10/site-packages (from tests4py) (1.11.1)\r\n",
      "Requirement already satisfied: tabulate>=0.9.0 in ./venv/lib/python3.10/site-packages (from tests4py) (0.9.0)\r\n",
      "Requirement already satisfied: networkx>=2.5 in ./venv/lib/python3.10/site-packages (from fuzzingbook>=1.1->tests4py) (3.0)\r\n",
      "Requirement already satisfied: showast>=0.2.4 in ./venv/lib/python3.10/site-packages (from fuzzingbook>=1.1->tests4py) (0.2.4)\r\n",
      "Requirement already satisfied: yapf>=0.31.0 in ./venv/lib/python3.10/site-packages (from fuzzingbook>=1.1->tests4py) (0.32.0)\r\n",
      "Requirement already satisfied: selenium>=3.141.0 in ./venv/lib/python3.10/site-packages (from fuzzingbook>=1.1->tests4py) (4.8.3)\r\n",
      "Requirement already satisfied: notedown>=1.5.1 in ./venv/lib/python3.10/site-packages (from fuzzingbook>=1.1->tests4py) (1.5.1)\r\n",
      "Requirement already satisfied: pydot>=1.4.2 in ./venv/lib/python3.10/site-packages (from fuzzingbook>=1.1->tests4py) (1.4.2)\r\n",
      "Requirement already satisfied: ipython>=7.16.1 in ./venv/lib/python3.10/site-packages (from fuzzingbook>=1.1->tests4py) (8.11.0)\r\n",
      "Requirement already satisfied: svglib>=1.1.0 in ./venv/lib/python3.10/site-packages (from fuzzingbook>=1.1->tests4py) (1.5.1)\r\n",
      "Requirement already satisfied: multiprocess>=0.70.12.2 in ./venv/lib/python3.10/site-packages (from fuzzingbook>=1.1->tests4py) (0.70.14)\r\n",
      "Requirement already satisfied: lxml>=4.5.1 in ./venv/lib/python3.10/site-packages (from fuzzingbook>=1.1->tests4py) (4.9.2)\r\n",
      "Requirement already satisfied: nbconvert>=6.0.7 in ./venv/lib/python3.10/site-packages (from fuzzingbook>=1.1->tests4py) (7.2.10)\r\n",
      "Requirement already satisfied: nbformat>=5.0.8 in ./venv/lib/python3.10/site-packages (from fuzzingbook>=1.1->tests4py) (5.8.0)\r\n",
      "Requirement already satisfied: beautifulsoup4>=4.9.3 in ./venv/lib/python3.10/site-packages (from fuzzingbook>=1.1->tests4py) (4.12.0)\r\n",
      "Requirement already satisfied: matplotlib>=3.3.2 in ./venv/lib/python3.10/site-packages (from fuzzingbook>=1.1->tests4py) (3.7.1)\r\n",
      "Requirement already satisfied: scikit-learn>=0.23.2 in ./venv/lib/python3.10/site-packages (from fuzzingbook>=1.1->tests4py) (1.2.2)\r\n",
      "Requirement already satisfied: Markdown>=3.3.4 in ./venv/lib/python3.10/site-packages (from fuzzingbook>=1.1->tests4py) (3.4.3)\r\n",
      "Requirement already satisfied: easyplotly>=0.1.3 in ./venv/lib/python3.10/site-packages (from fuzzingbook>=1.1->tests4py) (0.1.3)\r\n",
      "Requirement already satisfied: pyparsing==2.4.7 in ./venv/lib/python3.10/site-packages (from fuzzingbook>=1.1->tests4py) (2.4.7)\r\n",
      "Requirement already satisfied: enforce>=0.3.4 in ./venv/lib/python3.10/site-packages (from fuzzingbook>=1.1->tests4py) (0.3.4)\r\n",
      "Requirement already satisfied: z3-solver>=4.8.13.0 in ./venv/lib/python3.10/site-packages (from fuzzingbook>=1.1->tests4py) (4.11.2.0)\r\n",
      "Requirement already satisfied: types-Markdown>=3 in ./venv/lib/python3.10/site-packages (from fuzzingbook>=1.1->tests4py) (3.4.2.5)\r\n",
      "Requirement already satisfied: scipy>=1.7.1 in ./venv/lib/python3.10/site-packages (from fuzzingbook>=1.1->tests4py) (1.10.1)\r\n",
      "Requirement already satisfied: graphviz>=0.14.2 in ./venv/lib/python3.10/site-packages (from fuzzingbook>=1.1->tests4py) (0.20.1)\r\n",
      "Requirement already satisfied: cargo>=0.3 in ./venv/lib/python3.10/site-packages (from fuzzingbook>=1.1->tests4py) (0.3)\r\n",
      "Requirement already satisfied: diff-match-patch>=20200713 in ./venv/lib/python3.10/site-packages (from fuzzingbook>=1.1->tests4py) (20200713)\r\n",
      "Requirement already satisfied: Pygments>=2.7.1 in ./venv/lib/python3.10/site-packages (from fuzzingbook>=1.1->tests4py) (2.14.0)\r\n",
      "Requirement already satisfied: python-magic>=0.4.18 in ./venv/lib/python3.10/site-packages (from fuzzingbook>=1.1->tests4py) (0.4.27)\r\n",
      "Requirement already satisfied: numpy>=1.16.5 in ./venv/lib/python3.10/site-packages (from fuzzingbook>=1.1->tests4py) (1.24.2)\r\n",
      "Requirement already satisfied: pandas>=1.3.3 in ./venv/lib/python3.10/site-packages (from fuzzingbook>=1.1->tests4py) (1.5.3)\r\n",
      "Requirement already satisfied: toml>=0.10.2 in ./venv/lib/python3.10/site-packages (from isla-solver>=1.10->tests4py) (0.10.2)\r\n",
      "Requirement already satisfied: grammar-to-regex>=0.0.4 in ./venv/lib/python3.10/site-packages (from isla-solver>=1.10->tests4py) (0.0.4)\r\n",
      "Requirement already satisfied: packaging>=21.3 in ./venv/lib/python3.10/site-packages (from isla-solver>=1.10->tests4py) (23.0)\r\n",
      "Requirement already satisfied: proxyorderedset>=0.3.0 in ./venv/lib/python3.10/site-packages (from isla-solver>=1.10->tests4py) (0.3.1)\r\n",
      "Requirement already satisfied: wheel>=0.37.1 in ./venv/lib/python3.10/site-packages (from isla-solver>=1.10->tests4py) (0.37.1)\r\n",
      "Requirement already satisfied: antlr4-python3-runtime>=4.11 in ./venv/lib/python3.10/site-packages (from isla-solver>=1.10->tests4py) (4.12.0)\r\n",
      "Requirement already satisfied: grammar-graph>=0.1.14 in ./venv/lib/python3.10/site-packages (from isla-solver>=1.10->tests4py) (0.1.14)\r\n",
      "Requirement already satisfied: pathos>=0.2.9 in ./venv/lib/python3.10/site-packages (from isla-solver>=1.10->tests4py) (0.3.0)\r\n",
      "Requirement already satisfied: datrie>=0.8.2 in ./venv/lib/python3.10/site-packages (from isla-solver>=1.10->tests4py) (0.8.2)\r\n",
      "Requirement already satisfied: ijson>=3.1.4 in ./venv/lib/python3.10/site-packages (from isla-solver>=1.10->tests4py) (3.2.0.post0)\r\n",
      "Requirement already satisfied: soupsieve>1.2 in ./venv/lib/python3.10/site-packages (from beautifulsoup4>=4.9.3->fuzzingbook>=1.1->tests4py) (2.4)\r\n",
      "Requirement already satisfied: plotly in ./venv/lib/python3.10/site-packages (from easyplotly>=0.1.3->fuzzingbook>=1.1->tests4py) (5.13.1)\r\n",
      "Requirement already satisfied: wrapt in ./venv/lib/python3.10/site-packages (from enforce>=0.3.4->fuzzingbook>=1.1->tests4py) (1.15.0)\r\n",
      "Requirement already satisfied: fibheap>=0.2.1 in ./venv/lib/python3.10/site-packages (from grammar-graph>=0.1.14->isla-solver>=1.10->tests4py) (0.2.1)\r\n",
      "Requirement already satisfied: jedi>=0.16 in ./venv/lib/python3.10/site-packages (from ipython>=7.16.1->fuzzingbook>=1.1->tests4py) (0.18.2)\r\n",
      "Requirement already satisfied: pickleshare in ./venv/lib/python3.10/site-packages (from ipython>=7.16.1->fuzzingbook>=1.1->tests4py) (0.7.5)\r\n",
      "Requirement already satisfied: prompt-toolkit!=3.0.37,<3.1.0,>=3.0.30 in ./venv/lib/python3.10/site-packages (from ipython>=7.16.1->fuzzingbook>=1.1->tests4py) (3.0.38)\r\n",
      "Requirement already satisfied: traitlets>=5 in ./venv/lib/python3.10/site-packages (from ipython>=7.16.1->fuzzingbook>=1.1->tests4py) (5.9.0)\r\n",
      "Requirement already satisfied: stack-data in ./venv/lib/python3.10/site-packages (from ipython>=7.16.1->fuzzingbook>=1.1->tests4py) (0.6.2)\r\n",
      "Requirement already satisfied: matplotlib-inline in ./venv/lib/python3.10/site-packages (from ipython>=7.16.1->fuzzingbook>=1.1->tests4py) (0.1.6)\r\n",
      "Requirement already satisfied: decorator in ./venv/lib/python3.10/site-packages (from ipython>=7.16.1->fuzzingbook>=1.1->tests4py) (5.1.1)\r\n",
      "Requirement already satisfied: backcall in ./venv/lib/python3.10/site-packages (from ipython>=7.16.1->fuzzingbook>=1.1->tests4py) (0.2.0)\r\n",
      "Requirement already satisfied: pexpect>4.3 in ./venv/lib/python3.10/site-packages (from ipython>=7.16.1->fuzzingbook>=1.1->tests4py) (4.8.0)\r\n",
      "Requirement already satisfied: appnope in ./venv/lib/python3.10/site-packages (from ipython>=7.16.1->fuzzingbook>=1.1->tests4py) (0.1.3)\r\n",
      "Requirement already satisfied: cycler>=0.10 in ./venv/lib/python3.10/site-packages (from matplotlib>=3.3.2->fuzzingbook>=1.1->tests4py) (0.11.0)\r\n",
      "Requirement already satisfied: contourpy>=1.0.1 in ./venv/lib/python3.10/site-packages (from matplotlib>=3.3.2->fuzzingbook>=1.1->tests4py) (1.0.7)\r\n",
      "Requirement already satisfied: python-dateutil>=2.7 in ./venv/lib/python3.10/site-packages (from matplotlib>=3.3.2->fuzzingbook>=1.1->tests4py) (2.8.2)\r\n",
      "Requirement already satisfied: pillow>=6.2.0 in ./venv/lib/python3.10/site-packages (from matplotlib>=3.3.2->fuzzingbook>=1.1->tests4py) (9.4.0)\r\n",
      "Requirement already satisfied: fonttools>=4.22.0 in ./venv/lib/python3.10/site-packages (from matplotlib>=3.3.2->fuzzingbook>=1.1->tests4py) (4.39.2)\r\n",
      "Requirement already satisfied: kiwisolver>=1.0.1 in ./venv/lib/python3.10/site-packages (from matplotlib>=3.3.2->fuzzingbook>=1.1->tests4py) (1.4.4)\r\n",
      "Requirement already satisfied: dill>=0.3.6 in ./venv/lib/python3.10/site-packages (from multiprocess>=0.70.12.2->fuzzingbook>=1.1->tests4py) (0.3.6)\r\n",
      "Requirement already satisfied: jinja2>=3.0 in ./venv/lib/python3.10/site-packages (from nbconvert>=6.0.7->fuzzingbook>=1.1->tests4py) (3.1.2)\r\n",
      "Requirement already satisfied: jupyter-core>=4.7 in ./venv/lib/python3.10/site-packages (from nbconvert>=6.0.7->fuzzingbook>=1.1->tests4py) (5.3.0)\r\n",
      "Requirement already satisfied: jupyterlab-pygments in ./venv/lib/python3.10/site-packages (from nbconvert>=6.0.7->fuzzingbook>=1.1->tests4py) (0.2.2)\r\n",
      "Requirement already satisfied: pandocfilters>=1.4.1 in ./venv/lib/python3.10/site-packages (from nbconvert>=6.0.7->fuzzingbook>=1.1->tests4py) (1.5.0)\r\n",
      "Requirement already satisfied: bleach in ./venv/lib/python3.10/site-packages (from nbconvert>=6.0.7->fuzzingbook>=1.1->tests4py) (6.0.0)\r\n",
      "Requirement already satisfied: nbclient>=0.5.0 in ./venv/lib/python3.10/site-packages (from nbconvert>=6.0.7->fuzzingbook>=1.1->tests4py) (0.7.2)\r\n",
      "Requirement already satisfied: tinycss2 in ./venv/lib/python3.10/site-packages (from nbconvert>=6.0.7->fuzzingbook>=1.1->tests4py) (1.2.1)\r\n",
      "Requirement already satisfied: markupsafe>=2.0 in ./venv/lib/python3.10/site-packages (from nbconvert>=6.0.7->fuzzingbook>=1.1->tests4py) (2.1.2)\r\n",
      "Requirement already satisfied: defusedxml in ./venv/lib/python3.10/site-packages (from nbconvert>=6.0.7->fuzzingbook>=1.1->tests4py) (0.7.1)\r\n",
      "Requirement already satisfied: mistune<3,>=2.0.3 in ./venv/lib/python3.10/site-packages (from nbconvert>=6.0.7->fuzzingbook>=1.1->tests4py) (2.0.5)\r\n",
      "Requirement already satisfied: jsonschema>=2.6 in ./venv/lib/python3.10/site-packages (from nbformat>=5.0.8->fuzzingbook>=1.1->tests4py) (4.17.3)\r\n",
      "Requirement already satisfied: fastjsonschema in ./venv/lib/python3.10/site-packages (from nbformat>=5.0.8->fuzzingbook>=1.1->tests4py) (2.16.3)\r\n",
      "Requirement already satisfied: six in ./venv/lib/python3.10/site-packages (from notedown>=1.5.1->fuzzingbook>=1.1->tests4py) (1.16.0)\r\n",
      "Requirement already satisfied: pandoc-attributes in ./venv/lib/python3.10/site-packages (from notedown>=1.5.1->fuzzingbook>=1.1->tests4py) (0.1.7)\r\n",
      "Requirement already satisfied: pytz>=2020.1 in ./venv/lib/python3.10/site-packages (from pandas>=1.3.3->fuzzingbook>=1.1->tests4py) (2023.2)\r\n",
      "Requirement already satisfied: ppft>=1.7.6.6 in ./venv/lib/python3.10/site-packages (from pathos>=0.2.9->isla-solver>=1.10->tests4py) (1.7.6.6)\r\n",
      "Requirement already satisfied: pox>=0.3.2 in ./venv/lib/python3.10/site-packages (from pathos>=0.2.9->isla-solver>=1.10->tests4py) (0.3.2)\r\n",
      "Requirement already satisfied: frozendict>=2.3.2 in ./venv/lib/python3.10/site-packages (from proxyorderedset>=0.3.0->isla-solver>=1.10->tests4py) (2.3.6)\r\n",
      "Requirement already satisfied: threadpoolctl>=2.0.0 in ./venv/lib/python3.10/site-packages (from scikit-learn>=0.23.2->fuzzingbook>=1.1->tests4py) (3.1.0)\r\n",
      "Requirement already satisfied: joblib>=1.1.1 in ./venv/lib/python3.10/site-packages (from scikit-learn>=0.23.2->fuzzingbook>=1.1->tests4py) (1.2.0)\r\n",
      "Requirement already satisfied: certifi>=2021.10.8 in ./venv/lib/python3.10/site-packages (from selenium>=3.141.0->fuzzingbook>=1.1->tests4py) (2022.12.7)\r\n",
      "Requirement already satisfied: urllib3[socks]~=1.26 in ./venv/lib/python3.10/site-packages (from selenium>=3.141.0->fuzzingbook>=1.1->tests4py) (1.26.15)\r\n",
      "Requirement already satisfied: trio~=0.17 in ./venv/lib/python3.10/site-packages (from selenium>=3.141.0->fuzzingbook>=1.1->tests4py) (0.22.0)\r\n",
      "Requirement already satisfied: trio-websocket~=0.9 in ./venv/lib/python3.10/site-packages (from selenium>=3.141.0->fuzzingbook>=1.1->tests4py) (0.10.2)\r\n",
      "Requirement already satisfied: reportlab in ./venv/lib/python3.10/site-packages (from svglib>=1.1.0->fuzzingbook>=1.1->tests4py) (3.6.12)\r\n",
      "Requirement already satisfied: cssselect2>=0.2.0 in ./venv/lib/python3.10/site-packages (from svglib>=1.1.0->fuzzingbook>=1.1->tests4py) (0.7.0)\r\n",
      "Requirement already satisfied: webencodings in ./venv/lib/python3.10/site-packages (from cssselect2>=0.2.0->svglib>=1.1.0->fuzzingbook>=1.1->tests4py) (0.5.1)\r\n",
      "Requirement already satisfied: parso<0.9.0,>=0.8.0 in ./venv/lib/python3.10/site-packages (from jedi>=0.16->ipython>=7.16.1->fuzzingbook>=1.1->tests4py) (0.8.3)\r\n",
      "Requirement already satisfied: pyrsistent!=0.17.0,!=0.17.1,!=0.17.2,>=0.14.0 in ./venv/lib/python3.10/site-packages (from jsonschema>=2.6->nbformat>=5.0.8->fuzzingbook>=1.1->tests4py) (0.19.3)\r\n",
      "Requirement already satisfied: attrs>=17.4.0 in ./venv/lib/python3.10/site-packages (from jsonschema>=2.6->nbformat>=5.0.8->fuzzingbook>=1.1->tests4py) (22.2.0)\r\n",
      "Requirement already satisfied: platformdirs>=2.5 in ./venv/lib/python3.10/site-packages (from jupyter-core>=4.7->nbconvert>=6.0.7->fuzzingbook>=1.1->tests4py) (3.2.0)\r\n",
      "Requirement already satisfied: jupyter-client>=6.1.12 in ./venv/lib/python3.10/site-packages (from nbclient>=0.5.0->nbconvert>=6.0.7->fuzzingbook>=1.1->tests4py) (8.1.0)\r\n",
      "Requirement already satisfied: ptyprocess>=0.5 in ./venv/lib/python3.10/site-packages (from pexpect>4.3->ipython>=7.16.1->fuzzingbook>=1.1->tests4py) (0.7.0)\r\n",
      "Requirement already satisfied: wcwidth in ./venv/lib/python3.10/site-packages (from prompt-toolkit!=3.0.37,<3.1.0,>=3.0.30->ipython>=7.16.1->fuzzingbook>=1.1->tests4py) (0.2.6)\r\n",
      "Requirement already satisfied: sniffio in ./venv/lib/python3.10/site-packages (from trio~=0.17->selenium>=3.141.0->fuzzingbook>=1.1->tests4py) (1.3.0)\r\n",
      "Requirement already satisfied: async-generator>=1.9 in ./venv/lib/python3.10/site-packages (from trio~=0.17->selenium>=3.141.0->fuzzingbook>=1.1->tests4py) (1.10)\r\n",
      "Requirement already satisfied: sortedcontainers in ./venv/lib/python3.10/site-packages (from trio~=0.17->selenium>=3.141.0->fuzzingbook>=1.1->tests4py) (2.4.0)\r\n",
      "Requirement already satisfied: exceptiongroup>=1.0.0rc9 in ./venv/lib/python3.10/site-packages (from trio~=0.17->selenium>=3.141.0->fuzzingbook>=1.1->tests4py) (1.1.1)\r\n",
      "Requirement already satisfied: idna in ./venv/lib/python3.10/site-packages (from trio~=0.17->selenium>=3.141.0->fuzzingbook>=1.1->tests4py) (3.4)\r\n",
      "Requirement already satisfied: outcome in ./venv/lib/python3.10/site-packages (from trio~=0.17->selenium>=3.141.0->fuzzingbook>=1.1->tests4py) (1.2.0)\r\n",
      "Requirement already satisfied: wsproto>=0.14 in ./venv/lib/python3.10/site-packages (from trio-websocket~=0.9->selenium>=3.141.0->fuzzingbook>=1.1->tests4py) (1.2.0)\r\n",
      "Requirement already satisfied: PySocks!=1.5.7,<2.0,>=1.5.6 in ./venv/lib/python3.10/site-packages (from urllib3[socks]~=1.26->selenium>=3.141.0->fuzzingbook>=1.1->tests4py) (1.7.1)\r\n",
      "Requirement already satisfied: tenacity>=6.2.0 in ./venv/lib/python3.10/site-packages (from plotly->easyplotly>=0.1.3->fuzzingbook>=1.1->tests4py) (8.2.2)\r\n",
      "Requirement already satisfied: pure-eval in ./venv/lib/python3.10/site-packages (from stack-data->ipython>=7.16.1->fuzzingbook>=1.1->tests4py) (0.2.2)\r\n",
      "Requirement already satisfied: asttokens>=2.1.0 in ./venv/lib/python3.10/site-packages (from stack-data->ipython>=7.16.1->fuzzingbook>=1.1->tests4py) (2.2.1)\r\n",
      "Requirement already satisfied: executing>=1.2.0 in ./venv/lib/python3.10/site-packages (from stack-data->ipython>=7.16.1->fuzzingbook>=1.1->tests4py) (1.2.0)\r\n",
      "Requirement already satisfied: tornado>=6.2 in ./venv/lib/python3.10/site-packages (from jupyter-client>=6.1.12->nbclient>=0.5.0->nbconvert>=6.0.7->fuzzingbook>=1.1->tests4py) (6.2)\r\n",
      "Requirement already satisfied: pyzmq>=23.0 in ./venv/lib/python3.10/site-packages (from jupyter-client>=6.1.12->nbclient>=0.5.0->nbconvert>=6.0.7->fuzzingbook>=1.1->tests4py) (25.0.2)\r\n",
      "Requirement already satisfied: h11<1,>=0.9.0 in ./venv/lib/python3.10/site-packages (from wsproto>=0.14->trio-websocket~=0.9->selenium>=3.141.0->fuzzingbook>=1.1->tests4py) (0.14.0)\r\n",
      "\r\n",
      "\u001B[1m[\u001B[0m\u001B[34;49mnotice\u001B[0m\u001B[1;39;49m]\u001B[0m\u001B[39;49m A new release of pip is available: \u001B[0m\u001B[31;49m23.0.1\u001B[0m\u001B[39;49m -> \u001B[0m\u001B[32;49m23.1.2\u001B[0m\r\n",
      "\u001B[1m[\u001B[0m\u001B[34;49mnotice\u001B[0m\u001B[1;39;49m]\u001B[0m\u001B[39;49m To update, run: \u001B[0m\u001B[32;49mpip install --upgrade pip\u001B[0m\r\n"
     ]
    }
   ],
   "source": [
    "!pip install tests4py"
   ]
  },
  {
   "cell_type": "markdown",
   "metadata": {},
   "source": [
    "## Getting the Information\n",
    "\n",
    "Let's begin by getting some information. First we need to import the _Tests4Py_ framework."
   ]
  },
  {
   "cell_type": "code",
   "execution_count": 2,
   "metadata": {
    "collapsed": false,
    "jupyter": {
     "outputs_hidden": false
    },
    "ExecuteTime": {
     "end_time": "2023-05-17T13:51:33.919021Z",
     "start_time": "2023-05-17T13:51:33.612193Z"
    }
   },
   "outputs": [],
   "source": [
    "from tests4py import framework"
   ]
  },
  {
   "cell_type": "markdown",
   "metadata": {},
   "source": [
    "Now we can retrieve the information for all subjects."
   ]
  },
  {
   "cell_type": "code",
   "execution_count": 3,
   "metadata": {
    "collapsed": false,
    "jupyter": {
     "outputs_hidden": false
    },
    "ExecuteTime": {
     "end_time": "2023-05-17T13:51:33.950330Z",
     "start_time": "2023-05-17T13:51:33.920191Z"
    }
   },
   "outputs": [
    {
     "name": "stderr",
     "output_type": "stream",
     "text": [
      "tests4py :: INFO     :: Loading projects\n"
     ]
    },
    {
     "name": "stdout",
     "output_type": "stream",
     "text": [
      "The existing subjects in Tests4Py:\n",
      "\n",
      "╒══════════════╤══════════╕\n",
      "│ project      │   # bugs │\n",
      "╞══════════════╪══════════╡\n",
      "│ ansible      │       18 │\n",
      "├──────────────┼──────────┤\n",
      "│ black        │       23 │\n",
      "├──────────────┼──────────┤\n",
      "│ cookiecutter │        4 │\n",
      "├──────────────┼──────────┤\n",
      "│ fastapi      │       16 │\n",
      "├──────────────┼──────────┤\n",
      "│ httpie       │        5 │\n",
      "├──────────────┼──────────┤\n",
      "│ keras        │       45 │\n",
      "├──────────────┼──────────┤\n",
      "│ luigi        │       32 │\n",
      "├──────────────┼──────────┤\n",
      "│ matplotlib   │       30 │\n",
      "├──────────────┼──────────┤\n",
      "│ pandas       │      169 │\n",
      "├──────────────┼──────────┤\n",
      "│ pysnooper    │        3 │\n",
      "├──────────────┼──────────┤\n",
      "│ sanic        │        5 │\n",
      "├──────────────┼──────────┤\n",
      "│ scrapy       │       40 │\n",
      "├──────────────┼──────────┤\n",
      "│ spacy        │       10 │\n",
      "├──────────────┼──────────┤\n",
      "│ thefuck      │       32 │\n",
      "├──────────────┼──────────┤\n",
      "│ tornado      │       16 │\n",
      "├──────────────┼──────────┤\n",
      "│ tqdm         │        9 │\n",
      "╘══════════════╧══════════╛\n",
      "\n",
      "Set a project to get further information.\n"
     ]
    },
    {
     "data": {
      "text/plain": "{\n    \"command\": \"info\",\n    \"successful\": true\n}"
     },
     "execution_count": 3,
     "metadata": {},
     "output_type": "execute_result"
    }
   ],
   "source": [
    "framework.default.tests4py_info()"
   ]
  },
  {
   "cell_type": "markdown",
   "metadata": {},
   "source": [
    "---\n",
    "**If _Tests4Py_ does not work**\n",
    "\n",
    "_Tests4Py_ relies on _pyenv_ for executing its subject.\n",
    "If _Tests4Py_ shows you a message that it cannot find _pyenv_ you should install it by following the\n",
    "(official guidelines)[https://github.com/pyenv/pyenv#installation].\n",
    "We would recommend to use (automatic installer)[https://github.com/pyenv/pyenv#automatic-installer].\n",
    "\n",
    "---"
   ]
  },
  {
   "cell_type": "markdown",
   "metadata": {},
   "source": [
    "We can get further information for a project by providing its name."
   ]
  },
  {
   "cell_type": "code",
   "execution_count": 4,
   "metadata": {
    "collapsed": false,
    "jupyter": {
     "outputs_hidden": false
    },
    "ExecuteTime": {
     "end_time": "2023-05-17T13:51:34.005350Z",
     "start_time": "2023-05-17T13:51:33.952577Z"
    }
   },
   "outputs": [
    {
     "name": "stderr",
     "output_type": "stream",
     "text": [
      "tests4py :: INFO     :: Loading projects\n"
     ]
    },
    {
     "name": "stdout",
     "output_type": "stream",
     "text": [
      "Information for project cookiecutter:\n",
      "\n",
      "╒════════╤══════════════════════════════════════════════╕\n",
      "│ Name   │ cookiecutter                                 │\n",
      "├────────┼──────────────────────────────────────────────┤\n",
      "│ URL    │ https://github.com/cookiecutter/cookiecutter │\n",
      "├────────┼──────────────────────────────────────────────┤\n",
      "│ Status │ Status.OK                                    │\n",
      "├────────┼──────────────────────────────────────────────┤\n",
      "│ Bugs   │ 4                                            │\n",
      "╘════════╧══════════════════════════════════════════════╛\n",
      "\n"
     ]
    },
    {
     "data": {
      "text/plain": "{\n    \"command\": \"info\",\n    \"successful\": true,\n    \"project\": \"cookiecutter\"\n}"
     },
     "execution_count": 4,
     "metadata": {},
     "output_type": "execute_result"
    }
   ],
   "source": [
    "framework.default.tests4py_info(\"cookiecutter\")"
   ]
  },
  {
   "cell_type": "markdown",
   "metadata": {},
   "source": [
    "We can also get the information for a single defect by defining its bug id."
   ]
  },
  {
   "cell_type": "code",
   "execution_count": 5,
   "metadata": {
    "collapsed": false,
    "jupyter": {
     "outputs_hidden": false
    },
    "ExecuteTime": {
     "end_time": "2023-05-17T13:51:34.008362Z",
     "start_time": "2023-05-17T13:51:33.981513Z"
    }
   },
   "outputs": [
    {
     "name": "stderr",
     "output_type": "stream",
     "text": [
      "tests4py :: INFO     :: Loading projects\n"
     ]
    },
    {
     "name": "stdout",
     "output_type": "stream",
     "text": [
      "Information for project cookiecutter with bug id 2:\n",
      "\n",
      "╒════════════════╤═══════════════════════════════════════════════════════╕\n",
      "│ Name           │ cookiecutter                                          │\n",
      "├────────────────┼───────────────────────────────────────────────────────┤\n",
      "│ URL            │ https://github.com/cookiecutter/cookiecutter          │\n",
      "├────────────────┼───────────────────────────────────────────────────────┤\n",
      "│ Status         │ Status.OK                                             │\n",
      "├────────────────┼───────────────────────────────────────────────────────┤\n",
      "│ ID             │ 2                                                     │\n",
      "├────────────────┼───────────────────────────────────────────────────────┤\n",
      "│ Python Version │ 3.6.9                                                 │\n",
      "├────────────────┼───────────────────────────────────────────────────────┤\n",
      "│ Python Path    │ cookiecutter/build/lib/                               │\n",
      "├────────────────┼───────────────────────────────────────────────────────┤\n",
      "│ Buggy Commit   │ d7e7b28811e474e14d1bed747115e47dcdd15ba3              │\n",
      "├────────────────┼───────────────────────────────────────────────────────┤\n",
      "│ Fixed Commit   │ 90434ff4ea4477941444f1e83313beb414838535              │\n",
      "├────────────────┼───────────────────────────────────────────────────────┤\n",
      "│ Test Files     │ tests/test_hooks.py                                   │\n",
      "├────────────────┼───────────────────────────────────────────────────────┤\n",
      "│ Test Cases     │ tests/test_hooks.py::TestFindHooks::test_find_hook    │\n",
      "│                │ tests/test_hooks.py::TestExternalHooks::test_run_hook │\n",
      "├────────────────┼───────────────────────────────────────────────────────┤\n",
      "│ Unit Tests     │ True                                                  │\n",
      "├────────────────┼───────────────────────────────────────────────────────┤\n",
      "│ System Tests   │ True                                                  │\n",
      "╘════════════════╧═══════════════════════════════════════════════════════╛\n",
      "\n"
     ]
    },
    {
     "data": {
      "text/plain": "{\n    \"command\": \"info\",\n    \"successful\": true,\n    \"project\": \"cookiecutter_2\"\n}"
     },
     "execution_count": 5,
     "metadata": {},
     "output_type": "execute_result"
    }
   ],
   "source": [
    "framework.default.tests4py_info(\"cookiecutter\", 2)"
   ]
  },
  {
   "cell_type": "code",
   "execution_count": 5,
   "metadata": {
    "collapsed": false,
    "jupyter": {
     "outputs_hidden": false
    },
    "ExecuteTime": {
     "end_time": "2023-05-17T13:51:34.011800Z",
     "start_time": "2023-05-17T13:51:34.009217Z"
    }
   },
   "outputs": [],
   "source": []
  }
 ],
 "metadata": {
  "kernelspec": {
   "display_name": "Python 3 (ipykernel)",
   "language": "python",
   "name": "python3"
  },
  "language_info": {
   "codemirror_mode": {
    "name": "ipython",
    "version": 3
   },
   "file_extension": ".py",
   "mimetype": "text/x-python",
   "name": "python",
   "nbconvert_exporter": "python",
   "pygments_lexer": "ipython3",
   "version": "3.10.9"
  }
 },
 "nbformat": 4,
 "nbformat_minor": 4
}
