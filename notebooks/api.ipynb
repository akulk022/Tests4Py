{
 "cells": [
  {
   "cell_type": "markdown",
   "source": [
    "# Tests4Py API\n",
    "\n",
    "In this notebook we demonstrate the usage of Tests4Py's API. We will use the `middle_1` subject as an example in this tutorial."
   ],
   "metadata": {
    "collapsed": false
   },
   "id": "891fa5f035dcc22e"
  },
  {
   "cell_type": "markdown",
   "source": [
    "## Importing the API\n",
    "\n",
    "To get access to the API, we need to import the `tests4py` module."
   ],
   "metadata": {
    "collapsed": false
   },
   "id": "5e50db83da409da7"
  },
  {
   "cell_type": "code",
   "source": [
    "import tests4py.api as t4p"
   ],
   "metadata": {
    "collapsed": false,
    "ExecuteTime": {
     "end_time": "2024-04-18T08:46:02.395719Z",
     "start_time": "2024-04-18T08:46:01.734849Z"
    }
   },
   "id": "10fc00f9b2adef94",
   "outputs": [
    {
     "name": "stderr",
     "output_type": "stream",
     "text": [
      "tests4py :: INFO     :: Loading projects\n"
     ]
    }
   ],
   "execution_count": 1
  },
  {
   "cell_type": "markdown",
   "source": [
    "## Retrieving Information about the Subject\n",
    "\n",
    "Let's start by retrieving information about the subject."
   ],
   "metadata": {
    "collapsed": false
   },
   "id": "6a20bf295223edc8"
  },
  {
   "cell_type": "code",
   "source": [
    "t4p.info()"
   ],
   "metadata": {
    "collapsed": false,
    "ExecuteTime": {
     "end_time": "2024-04-18T08:46:03.362074Z",
     "start_time": "2024-04-18T08:46:03.351940Z"
    }
   },
   "id": "57cd63b7a9e83a37",
   "outputs": [
    {
     "name": "stdout",
     "output_type": "stream",
     "text": [
      "The existing subjects in Tests4Py:\n",
      "\n",
      "╒══════════════╤══════════╕\n",
      "│ project      │   # bugs │\n",
      "╞══════════════╪══════════╡\n",
      "│ ansible      │       18 │\n",
      "├──────────────┼──────────┤\n",
      "│ black        │       23 │\n",
      "├──────────────┼──────────┤\n",
      "│ calculator   │        1 │\n",
      "├──────────────┼──────────┤\n",
      "│ cookiecutter │        4 │\n",
      "├──────────────┼──────────┤\n",
      "│ expression   │        1 │\n",
      "├──────────────┼──────────┤\n",
      "│ fastapi      │       16 │\n",
      "├──────────────┼──────────┤\n",
      "│ httpie       │        5 │\n",
      "├──────────────┼──────────┤\n",
      "│ keras        │       45 │\n",
      "├──────────────┼──────────┤\n",
      "│ luigi        │       33 │\n",
      "├──────────────┼──────────┤\n",
      "│ markup       │        2 │\n",
      "├──────────────┼──────────┤\n",
      "│ matplotlib   │       30 │\n",
      "├──────────────┼──────────┤\n",
      "│ middle       │        2 │\n",
      "├──────────────┼──────────┤\n",
      "│ pandas       │      169 │\n",
      "├──────────────┼──────────┤\n",
      "│ pysnooper    │        3 │\n",
      "├──────────────┼──────────┤\n",
      "│ sanic        │        5 │\n",
      "├──────────────┼──────────┤\n",
      "│ scrapy       │       40 │\n",
      "├──────────────┼──────────┤\n",
      "│ spacy        │       10 │\n",
      "├──────────────┼──────────┤\n",
      "│ thefuck      │       32 │\n",
      "├──────────────┼──────────┤\n",
      "│ tornado      │       16 │\n",
      "├──────────────┼──────────┤\n",
      "│ tqdm         │        9 │\n",
      "├──────────────┼──────────┤\n",
      "│ youtubedl    │        3 │\n",
      "╘══════════════╧══════════╛\n",
      "\n",
      "Set a project to get further information.\n"
     ]
    },
    {
     "data": {
      "text/plain": [
       "{\n",
       "    \"command\": \"info\",\n",
       "    \"successful\": true\n",
       "}"
      ]
     },
     "execution_count": 2,
     "metadata": {},
     "output_type": "execute_result"
    }
   ],
   "execution_count": 2
  },
  {
   "cell_type": "markdown",
   "source": [
    "As you can see, we get a list of all subjects in the database. Note that we get a dictionary, as a return value. This \n",
    "dictionary is actually a report that comprises the result of the executed command. In the next step we get the \n",
    "information about a specific project, but preserving the report."
   ],
   "metadata": {
    "collapsed": false
   },
   "id": "3318b9ef9dbbc311"
  },
  {
   "cell_type": "code",
   "source": [
    "report = t4p.info(project_name='middle')"
   ],
   "metadata": {
    "collapsed": false,
    "ExecuteTime": {
     "end_time": "2024-04-18T08:46:05.211457Z",
     "start_time": "2024-04-18T08:46:05.206596Z"
    }
   },
   "id": "ce123a36d55663e1",
   "outputs": [
    {
     "name": "stdout",
     "output_type": "stream",
     "text": [
      "Information for project middle:\n",
      "\n",
      "╒════════╤════════════════════════════════════╕\n",
      "│ Name   │ middle                             │\n",
      "├────────┼────────────────────────────────────┤\n",
      "│ URL    │ https://github.com/smythi93/middle │\n",
      "├────────┼────────────────────────────────────┤\n",
      "│ Status │ Status.OK                          │\n",
      "├────────┼────────────────────────────────────┤\n",
      "│ Bugs   │ 2                                  │\n",
      "╘════════╧════════════════════════════════════╛\n",
      "\n"
     ]
    }
   ],
   "execution_count": 3
  },
  {
   "cell_type": "markdown",
   "source": [
    "### Excursion: Reports\n",
    "\n",
    "The report contains specific information for the executed command. In general, we can validate whether the execution \n",
    "was successfully and what error was triggered without interrupting our execution."
   ],
   "metadata": {
    "collapsed": false
   },
   "id": "876bbd5f8ca32b3e"
  },
  {
   "cell_type": "code",
   "source": [
    "report.successful"
   ],
   "metadata": {
    "collapsed": false,
    "ExecuteTime": {
     "end_time": "2024-04-18T08:46:09.397847Z",
     "start_time": "2024-04-18T08:46:09.392542Z"
    }
   },
   "id": "3ce04c86dc5ab778",
   "outputs": [
    {
     "data": {
      "text/plain": [
       "True"
      ]
     },
     "execution_count": 4,
     "metadata": {},
     "output_type": "execute_result"
    }
   ],
   "execution_count": 4
  },
  {
   "cell_type": "markdown",
   "source": [
    "Let's try an invalid project name as an example."
   ],
   "metadata": {
    "collapsed": false
   },
   "id": "e882f60f7a09e553"
  },
  {
   "cell_type": "code",
   "source": [
    "report = t4p.info(project_name='invalid')"
   ],
   "metadata": {
    "collapsed": false,
    "ExecuteTime": {
     "end_time": "2024-04-18T08:46:10.877406Z",
     "start_time": "2024-04-18T08:46:10.874030Z"
    }
   },
   "id": "49f8f6514286d71c",
   "outputs": [],
   "execution_count": 5
  },
  {
   "cell_type": "markdown",
   "source": [
    "And check whether the execution was successful."
   ],
   "metadata": {
    "collapsed": false
   },
   "id": "3fff38af26867271"
  },
  {
   "cell_type": "code",
   "source": [
    "report.successful"
   ],
   "metadata": {
    "collapsed": false,
    "ExecuteTime": {
     "end_time": "2024-04-18T08:46:25.803964Z",
     "start_time": "2024-04-18T08:46:25.798981Z"
    }
   },
   "id": "a4eddf5e349ba71f",
   "outputs": [
    {
     "data": {
      "text/plain": [
       "False"
      ]
     },
     "execution_count": 6,
     "metadata": {},
     "output_type": "execute_result"
    }
   ],
   "execution_count": 6
  },
  {
   "cell_type": "markdown",
   "source": [
    "And what error was triggered."
   ],
   "metadata": {
    "collapsed": false
   },
   "id": "8f9d30dca0079da0"
  },
  {
   "cell_type": "code",
   "source": [
    "report.raised"
   ],
   "metadata": {
    "collapsed": false,
    "ExecuteTime": {
     "end_time": "2024-04-18T08:46:27.450179Z",
     "start_time": "2024-04-18T08:46:27.445234Z"
    }
   },
   "id": "cbb34e832284cf61",
   "outputs": [
    {
     "data": {
      "text/plain": [
       "ValueError('Project invalid not found')"
      ]
     },
     "execution_count": 7,
     "metadata": {},
     "output_type": "execute_result"
    }
   ],
   "execution_count": 7
  },
  {
   "cell_type": "markdown",
   "source": [
    "### Back to the Subject Information\n",
    "\n",
    "Let's get back to the subject information. We can further get the information about the subject by specifying the bug id. Since we are investigating the `middle_1` subject, we will use the bug id `1`."
   ],
   "metadata": {
    "collapsed": false
   },
   "id": "cbae32aeb5c2b256"
  },
  {
   "cell_type": "code",
   "source": [
    "t4p.info(project_name='middle', bug_id=1)"
   ],
   "metadata": {
    "collapsed": false,
    "ExecuteTime": {
     "end_time": "2024-04-18T08:46:34.565044Z",
     "start_time": "2024-04-18T08:46:34.557714Z"
    }
   },
   "id": "38de543d2f107597",
   "outputs": [
    {
     "name": "stdout",
     "output_type": "stream",
     "text": [
      "Information for project middle with bug id 1:\n",
      "\n",
      "╒════════════════╤═══════════════════════════════════════════════════╕\n",
      "│ Name           │ middle                                            │\n",
      "├────────────────┼───────────────────────────────────────────────────┤\n",
      "│ URL            │ https://github.com/smythi93/middle                │\n",
      "├────────────────┼───────────────────────────────────────────────────┤\n",
      "│ Status         │ Status.OK                                         │\n",
      "├────────────────┼───────────────────────────────────────────────────┤\n",
      "│ ID             │ 1                                                 │\n",
      "├────────────────┼───────────────────────────────────────────────────┤\n",
      "│ Python Version │ 3.10.9                                            │\n",
      "├────────────────┼───────────────────────────────────────────────────┤\n",
      "│ Python Path    │                                                   │\n",
      "├────────────────┼───────────────────────────────────────────────────┤\n",
      "│ Buggy Commit   │ 15350ede14501997656f2fd49bd5b9af2c8d2582          │\n",
      "├────────────────┼───────────────────────────────────────────────────┤\n",
      "│ Fixed Commit   │ c0e7b35b1fba9320fe40fe143c89f6b4c7c8979d          │\n",
      "├────────────────┼───────────────────────────────────────────────────┤\n",
      "│ Test Files     │ tests/test_middle.py                              │\n",
      "├────────────────┼───────────────────────────────────────────────────┤\n",
      "│ Test Cases     │ tests/test_middle.py::TestMiddle::test_middle_213 │\n",
      "├────────────────┼───────────────────────────────────────────────────┤\n",
      "│ Unit Tests     │ True                                              │\n",
      "├────────────────┼───────────────────────────────────────────────────┤\n",
      "│ System Tests   │ True                                              │\n",
      "╘════════════════╧═══════════════════════════════════════════════════╛\n",
      "\n"
     ]
    },
    {
     "data": {
      "text/plain": [
       "{\n",
       "    \"command\": \"info\",\n",
       "    \"successful\": true,\n",
       "    \"project\": \"middle_1\"\n",
       "}"
      ]
     },
     "execution_count": 8,
     "metadata": {},
     "output_type": "execute_result"
    }
   ],
   "execution_count": 8
  },
  {
   "cell_type": "markdown",
   "source": [
    "In this information, we get the GitHub link to the subject, the commits for the buggy and its fixed version, the test \n",
    "cases that fail, and if unittest and system test generation is enabled."
   ],
   "metadata": {
    "collapsed": false
   },
   "id": "ea622f8f77cee3be"
  },
  {
   "cell_type": "markdown",
   "source": [
    "Finally, we can access the subject itself as part of the API."
   ],
   "metadata": {
    "collapsed": false
   },
   "id": "afc05d2200ef99f3"
  },
  {
   "cell_type": "code",
   "source": [
    "t4p.middle_1"
   ],
   "metadata": {
    "collapsed": false,
    "ExecuteTime": {
     "end_time": "2024-04-18T08:46:37.636633Z",
     "start_time": "2024-04-18T08:46:37.631801Z"
    }
   },
   "id": "81317885880b24e3",
   "outputs": [
    {
     "data": {
      "text/plain": [
       "middle_1_buggy"
      ]
     },
     "execution_count": 9,
     "metadata": {},
     "output_type": "execute_result"
    }
   ],
   "execution_count": 9
  },
  {
   "cell_type": "markdown",
   "source": [
    "## Retrieving the Subject\n",
    "\n",
    "As a next step we can retrieve the subject, such that we have a local copy of it to work with."
   ],
   "metadata": {
    "collapsed": false
   },
   "id": "6d79e06ac3799617"
  },
  {
   "cell_type": "code",
   "source": [
    "t4p.checkout(t4p.middle_1)"
   ],
   "metadata": {
    "collapsed": false,
    "ExecuteTime": {
     "end_time": "2024-04-18T08:46:39.653738Z",
     "start_time": "2024-04-18T08:46:39.467466Z"
    }
   },
   "id": "3949545169f557f9",
   "outputs": [
    {
     "name": "stderr",
     "output_type": "stream",
     "text": [
      "tests4py :: INFO     :: Copying https://github.com/smythi93/middle from /Users/marius/.t4p/projects/middle into /Users/marius/Desktop/work/projects/Tests4Py/notebooks/tmp/middle_1... \n",
      "tests4py :: INFO     :: Resetting git at /Users/marius/Desktop/work/projects/Tests4Py/notebooks/tmp/middle_1 to c0e7b35b1fba9320fe40fe143c89f6b4c7c8979d\n",
      "tests4py :: INFO     :: Creating tmp location at /Users/marius/Desktop/work/projects/Tests4Py/notebooks/tmp/tmp_middle\n",
      "tests4py :: INFO     :: Copying required files to /Users/marius/Desktop/work/projects/Tests4Py/notebooks/tmp/tmp_middle\n",
      "tests4py :: INFO     :: Checkout buggy commit id 15350ede14501997656f2fd49bd5b9af2c8d2582\n",
      "tests4py :: INFO     :: Copying required files from /Users/marius/Desktop/work/projects/Tests4Py/notebooks/tmp/tmp_middle\n",
      "tests4py :: INFO     :: Create info file\n",
      "tests4py :: INFO     :: Copying resources for middle_1\n"
     ]
    },
    {
     "data": {
      "text/plain": [
       "{\n",
       "    \"command\": \"checkout\",\n",
       "    \"successful\": true,\n",
       "    \"project\": \"middle_1\",\n",
       "    \"location\": \"PosixPath('/Users/marius/Desktop/work/projects/Tests4Py/notebooks/tmp/middle_1')\"\n",
       "}"
      ]
     },
     "execution_count": 10,
     "metadata": {},
     "output_type": "execute_result"
    }
   ],
   "execution_count": 10
  },
  {
   "cell_type": "markdown",
   "source": [
    "## Installing the Subject\n",
    "\n",
    "Now we can build the subject. This will install all dependencies and the subject in a virtual environment. \n",
    "It may also install the correct Python version, if it is not already installed (Note that this may take a while)."
   ],
   "metadata": {
    "collapsed": false
   },
   "id": "63bc42a0642c3304"
  },
  {
   "cell_type": "code",
   "source": [
    "t4p.build()"
   ],
   "metadata": {
    "collapsed": false,
    "ExecuteTime": {
     "end_time": "2024-04-18T08:46:48.126153Z",
     "start_time": "2024-04-18T08:46:41.755605Z"
    }
   },
   "id": "3dc1890ba4a6ec0e",
   "outputs": [
    {
     "name": "stderr",
     "output_type": "stream",
     "text": [
      "tests4py :: INFO     :: Checking whether Tests4Py project\n",
      "tests4py :: INFO     :: Loading projects\n",
      "tests4py :: INFO     :: Checking for platform darwin\n",
      "tests4py :: INFO     :: Check for activated python version\n",
      "tests4py :: INFO     :: Using pyenv python 3.10.9\n",
      "tests4py :: INFO     :: Activating virtual env\n",
      "tests4py :: INFO     :: Run setup\n",
      "tests4py :: INFO     :: Set compiled flag\n"
     ]
    },
    {
     "data": {
      "text/plain": [
       "{\n",
       "    \"command\": \"build\",\n",
       "    \"successful\": true,\n",
       "    \"project\": \"middle_1\",\n",
       "    \"location\": \"PosixPath('/Users/marius/Desktop/work/projects/Tests4Py/notebooks/tmp/middle_1')\",\n",
       "    \"env\": \"PATH=/Users/marius/Desktop/work/projects/Tests4Py/notebooks/tmp/middle_1/tests4py_venv/bin:/Users/marius/.pyenv/versions/3.10.9/bin:/Users/marius/Desktop/work/projects/Tests4Py/venv/bin:/Users/marius/.opam/ocaml-base-compiler-4.02.3/bin:/usr/local/opt/diffutils/bin:/usr/local/opt/findutils/libexec/gnubin:/usr/local/opt/gnu-time/libexec/gnubin:/usr/local/opt/make/libexec/gnubin:/usr/local/opt/gawk/libexec/gnubin:/usr/local/opt/gsed/libexec/gnubin:/usr/local/opt/gnu-sed/libexec/gnubin:/usr/local/opt/grep/libexec/gnubin:/usr/local/opt/ed/libexec/gnubin:/usr/local/opt/gnu-tar/libexec/gnubin:/usr/local/opt/coreutils/libexec/gnubin:/Users/marius/.jenv/shims:/Users/marius/.jenv/bin:/usr/local/Cellar/pyenv-virtualenv/1.2.0/shims:/Users/marius/.pyenv/shims:/Users/marius/.pyenv/bin:/Library/Frameworks/Python.framework/Versions/3.10/bin:/usr/local/bin:/System/Cryptexes/App/usr/bin:/usr/bin:/bin:/usr/sbin:/sbin:/var/run/com.apple.security.cryptexd/codex.system/bootstrap/usr/local/bin:/var/run/com.apple.security.cryptexd/codex.system/bootstrap/usr/bin:/var/run/com.apple.security.cryptexd/codex.system/bootstrap/usr/appleinternal/bin:/Library/TeX/texbin:/Applications/VMware Fusion.app/Contents/Public:/Users/marius/BugsInPy/framework/bin:/Users/marius/Desktop/work/repair/benchmarks/defects4j/framework/bin\\nPYENV_SHELL=zsh\\nJENV_FORCEJDKHOME=true\\nJAVA_HOME=/Users/marius/.jenv/versions/11\\nLANG=en_US.UTF-8\\nLDFLAGS=-L/usr/local/opt/zlib/lib -L/usr/local/opt/bzip2/lib\\nCOMMAND_MODE=unix2003\\nPS1=(tests4py_venv) (venv) \\nLOGNAME=marius\\nCAML_LD_LIBRARY_PATH=/Users/marius/.opam/ocaml-base-compiler-4.02.3/lib/stublibs:/Users/marius/.opam/ocaml-base-compiler-4.02.3/lib/ocaml/stublibs:/Users/marius/.opam/ocaml-base-compiler-4.02.3/lib/ocaml\\nJDK_HOME=/Users/marius/.jenv/versions/11\\nXPC_SERVICE_NAME=application.com.jetbrains.pycharm.109188379.109189542.8D7894C1-4316-42DF-AEFD-2086CEADCC32\\nPWD=/Users/marius/Desktop/work/projects/Tests4Py\\nOCAML_TOPLEVEL_PATH=/Users/marius/.opam/ocaml-base-compiler-4.02.3/lib/toplevel\\nTOOLBOX_VERSION=2.2.3.20090\\n__CFBundleIdentifier=com.jetbrains.pycharm\\nPYENV_VIRTUALENV_INIT=1\\nLANGUAGE=\\nPYTHONPATH=/Users/marius/Desktop/work/projects/Tests4Py:/Users/marius/Desktop/work/projects/Tests4Py/src:/Users/marius/Desktop/work/projects/Tests4Py/tests\\nSHELL=/bin/zsh\\nOPAM_SWITCH_PREFIX=/Users/marius/.opam/ocaml-base-compiler-4.02.3\\nPAGER=cat\\nCPPFLAGS=-I/usr/local/opt/zlib/include -I/usr/local/opt/bzip2/include\\nLSCOLORS=Gxfxcxdxbxegedabagacad\\nPYENV_ROOT=/Users/marius/.pyenv\\nOLDPWD=/\\nUSER=marius\\nJENV_FORCEJAVAHOME=true\\nCLASSPATH=.:/usr/local/lib/antlr-4.9.2-complete.jar:\\nZSH=/Users/marius/.oh-my-zsh\\nTMPDIR=/var/folders/09/pt1hglws43n7fh5521n6zyyh0000gn/T/\\nSSH_AUTH_SOCK=/private/tmp/com.apple.launchd.rTAg61AGdP/Listeners\\nVIRTUAL_ENV=/Users/marius/Desktop/work/projects/Tests4Py/notebooks/tmp/middle_1/tests4py_venv\\nXPC_FLAGS=0x0\\nLC_ALL=en_US.UTF-8\\n__CF_USER_TEXT_ENCODING=0x1F5:0x0:0x0\\nLESS=-R\\nJENV_SHELL=zsh\\nLC_CTYPE=en_DE.UTF-8\\nLS_COLORS=di=1;36:ln=35:so=32:pi=33:ex=31:bd=34;46:cd=34;43:su=30;41:sg=30;46:tw=30;42:ow=30;43\\nIDEA_INITIAL_DIRECTORY=/\\nHOME=/Users/marius\\nJENV_LOADED=1\\nJPY_SESSION_NAME=notebooks/api.ipynb\\nJPY_PARENT_PID=16601\\nPYDEVD_USE_FRAME_EVAL=NO\\nTERM=xterm-color\\nCLICOLOR=1\\nFORCE_COLOR=1\\nCLICOLOR_FORCE=1\\nGIT_PAGER=cat\\nMPLBACKEND=module://matplotlib_inline.backend_inline\\n_OLD_VIRTUAL_PATH=/Users/marius/.pyenv/versions/3.10.9/bin:/Users/marius/Desktop/work/projects/Tests4Py/venv/bin:/Users/marius/.opam/ocaml-base-compiler-4.02.3/bin:/usr/local/opt/diffutils/bin:/usr/local/opt/findutils/libexec/gnubin:/usr/local/opt/gnu-time/libexec/gnubin:/usr/local/opt/make/libexec/gnubin:/usr/local/opt/gawk/libexec/gnubin:/usr/local/opt/gsed/libexec/gnubin:/usr/local/opt/gnu-sed/libexec/gnubin:/usr/local/opt/grep/libexec/gnubin:/usr/local/opt/ed/libexec/gnubin:/usr/local/opt/gnu-tar/libexec/gnubin:/usr/local/opt/coreutils/libexec/gnubin:/Users/marius/.jenv/shims:/Users/marius/.jenv/bin:/usr/local/Cellar/pyenv-virtualenv/1.2.0/shims:/Users/marius/.pyenv/shims:/Users/marius/.pyenv/bin:/Library/Frameworks/Python.framework/Versions/3.10/bin:/usr/local/bin:/System/Cryptexes/App/usr/bin:/usr/bin:/bin:/usr/sbin:/sbin:/var/run/com.apple.security.cryptexd/codex.system/bootstrap/usr/local/bin:/var/run/com.apple.security.cryptexd/codex.system/bootstrap/usr/bin:/var/run/com.apple.security.cryptexd/codex.system/bootstrap/usr/appleinternal/bin:/Library/TeX/texbin:/Applications/VMware Fusion.app/Contents/Public:/Users/marius/BugsInPy/framework/bin:/Users/marius/Desktop/work/repair/benchmarks/defects4j/framework/bin\\n_OLD_VIRTUAL_PS1=(venv) \\nVIRTUAL_ENV_PROMPT=(tests4py_venv)\"\n",
       "}"
      ]
     },
     "execution_count": 11,
     "metadata": {},
     "output_type": "execute_result"
    }
   ],
   "execution_count": 11
  },
  {
   "cell_type": "markdown",
   "source": [
    "## Executing the Failing Test Cases\n",
    "\n",
    "Let's execute the failing test cases (in this case, we only have one)."
   ],
   "metadata": {
    "collapsed": false
   },
   "id": "c46ad1515454ada0"
  },
  {
   "cell_type": "code",
   "source": [
    "t4p.test()"
   ],
   "metadata": {
    "collapsed": false,
    "ExecuteTime": {
     "end_time": "2024-04-18T08:46:55.182964Z",
     "start_time": "2024-04-18T08:46:54.205004Z"
    }
   },
   "id": "bc9c88c82b465150",
   "outputs": [
    {
     "name": "stderr",
     "output_type": "stream",
     "text": [
      "tests4py :: INFO     :: Checking whether Tests4Py project\n",
      "tests4py :: INFO     :: Loading projects\n",
      "tests4py :: INFO     :: Checking for platform darwin\n",
      "tests4py :: INFO     :: Check for activated python version\n",
      "tests4py :: INFO     :: Using pyenv python 3.10.9\n",
      "tests4py :: INFO     :: Activating virtual env\n",
      "tests4py :: INFO     :: Run relevant tests ['tests/test_middle.py::TestMiddle::test_middle_213']\n",
      "tests4py :: INFO     :: Run tests with command ['python', '-m', 'pytest', '--rootdir=/Users/marius/Desktop/work/projects/Tests4Py/notebooks/tmp/middle_1', 'tests/test_middle.py::TestMiddle::test_middle_213']\n",
      "tests4py :: INFO     :: \u001B[1m============================= test session starts ==============================\u001B[0m\n",
      "platform darwin -- Python 3.10.9, pytest-8.0.0, pluggy-1.4.0\n",
      "rootdir: /Users/marius/Desktop/work/projects/Tests4Py/notebooks/tmp/middle_1\n",
      "collected 1 item\n",
      "\n",
      "tests/test_middle.py \u001B[31mF\u001B[0m\u001B[31m                                                   [100%]\u001B[0m\n",
      "\n",
      "=================================== FAILURES ===================================\n",
      "\u001B[31m\u001B[1m__________________________ TestMiddle.test_middle_213 __________________________\u001B[0m\n",
      "\n",
      "self = <test_middle.TestMiddle testMethod=test_middle_213>\n",
      "\n",
      "    def test_middle_213(self):\n",
      ">       self.assertEqual(2, middle(2, 1, 3))\n",
      "\u001B[1m\u001B[31mE       AssertionError: 2 != 1\u001B[0m\n",
      "\n",
      "\u001B[1m\u001B[31mtests/test_middle.py\u001B[0m:23: AssertionError\n",
      "\u001B[36m\u001B[1m=========================== short test summary info ============================\u001B[0m\n",
      "\u001B[31mFAILED\u001B[0m tests/test_middle.py::\u001B[1mTestMiddle::test_middle_213\u001B[0m - AssertionError: 2 != 1\n",
      "\u001B[31m============================== \u001B[31m\u001B[1m1 failed\u001B[0m\u001B[31m in 0.05s\u001B[0m\u001B[31m ===============================\u001B[0m\n",
      "\n",
      "tests4py :: INFO     :: Ran 1 tests\n",
      "tests4py :: INFO     :: 0 passed --- 1 failed\n"
     ]
    },
    {
     "data": {
      "text/plain": [
       "{\n",
       "    \"command\": \"test\",\n",
       "    \"successful\": true,\n",
       "    \"project\": \"middle_1\",\n",
       "    \"location\": \"PosixPath('/Users/marius/Desktop/work/projects/Tests4Py/notebooks/tmp/middle_1')\",\n",
       "    \"total\": 1,\n",
       "    \"failing\": 1\n",
       "}"
      ]
     },
     "execution_count": 12,
     "metadata": {},
     "output_type": "execute_result"
    }
   ],
   "execution_count": 12
  },
  {
   "cell_type": "markdown",
   "source": [
    "We can also execute all tests or all relevant tests (i.e. the tests closely related to the failing one) in the subject \n",
    "by setting the `all_tests` parameter or `relevant_tests` parameter to `True` respectively."
   ],
   "metadata": {
    "collapsed": false
   },
   "id": "1b2bad2e6b1a8e3d"
  },
  {
   "cell_type": "code",
   "source": [
    "t4p.test(all_tests=True)"
   ],
   "metadata": {
    "collapsed": false,
    "ExecuteTime": {
     "end_time": "2024-04-18T08:46:59.268899Z",
     "start_time": "2024-04-18T08:46:58.651243Z"
    }
   },
   "id": "f0ce801f15f2dcd4",
   "outputs": [
    {
     "name": "stderr",
     "output_type": "stream",
     "text": [
      "tests4py :: INFO     :: Checking whether Tests4Py project\n",
      "tests4py :: INFO     :: Loading projects\n",
      "tests4py :: INFO     :: Checking for platform darwin\n",
      "tests4py :: INFO     :: Check for activated python version\n",
      "tests4py :: INFO     :: Using pyenv python 3.10.9\n",
      "tests4py :: INFO     :: Activating virtual env\n",
      "tests4py :: INFO     :: Run tests with command ['python', '-m', 'pytest', '--rootdir=/Users/marius/Desktop/work/projects/Tests4Py/notebooks/tmp/middle_1', PosixPath('tests')]\n",
      "tests4py :: INFO     :: \u001B[1m============================= test session starts ==============================\u001B[0m\n",
      "platform darwin -- Python 3.10.9, pytest-8.0.0, pluggy-1.4.0\n",
      "rootdir: /Users/marius/Desktop/work/projects/Tests4Py/notebooks/tmp/middle_1\n",
      "collected 6 items\n",
      "\n",
      "tests/test_middle.py \u001B[32m.\u001B[0m\u001B[31mF\u001B[0m\u001B[32m.\u001B[0m\u001B[32m.\u001B[0m\u001B[32m.\u001B[0m\u001B[32m.\u001B[0m\u001B[31m                                              [100%]\u001B[0m\n",
      "\n",
      "=================================== FAILURES ===================================\n",
      "\u001B[31m\u001B[1m__________________________ TestMiddle.test_middle_213 __________________________\u001B[0m\n",
      "\n",
      "self = <test_middle.TestMiddle testMethod=test_middle_213>\n",
      "\n",
      "    def test_middle_213(self):\n",
      ">       self.assertEqual(2, middle(2, 1, 3))\n",
      "\u001B[1m\u001B[31mE       AssertionError: 2 != 1\u001B[0m\n",
      "\n",
      "\u001B[1m\u001B[31mtests/test_middle.py\u001B[0m:23: AssertionError\n",
      "\u001B[36m\u001B[1m=========================== short test summary info ============================\u001B[0m\n",
      "\u001B[31mFAILED\u001B[0m tests/test_middle.py::\u001B[1mTestMiddle::test_middle_213\u001B[0m - AssertionError: 2 != 1\n",
      "\u001B[31m========================= \u001B[31m\u001B[1m1 failed\u001B[0m, \u001B[32m5 passed\u001B[0m\u001B[31m in 0.05s\u001B[0m\u001B[31m ==========================\u001B[0m\n",
      "\n",
      "tests4py :: INFO     :: Ran 6 tests\n",
      "tests4py :: INFO     :: 5 passed --- 1 failed\n"
     ]
    },
    {
     "data": {
      "text/plain": [
       "{\n",
       "    \"command\": \"test\",\n",
       "    \"successful\": true,\n",
       "    \"project\": \"middle_1\",\n",
       "    \"location\": \"PosixPath('/Users/marius/Desktop/work/projects/Tests4Py/notebooks/tmp/middle_1')\",\n",
       "    \"total\": 6,\n",
       "    \"passing\": 5,\n",
       "    \"failing\": 1\n",
       "}"
      ]
     },
     "execution_count": 13,
     "metadata": {},
     "output_type": "execute_result"
    }
   ],
   "execution_count": 13
  },
  {
   "cell_type": "code",
   "source": [
    "t4p.test(relevant_tests=True)"
   ],
   "metadata": {
    "collapsed": false,
    "ExecuteTime": {
     "end_time": "2024-04-18T08:47:02.326097Z",
     "start_time": "2024-04-18T08:47:01.642188Z"
    }
   },
   "id": "72a586a1c062d061",
   "outputs": [
    {
     "name": "stderr",
     "output_type": "stream",
     "text": [
      "tests4py :: INFO     :: Checking whether Tests4Py project\n",
      "tests4py :: INFO     :: Loading projects\n",
      "tests4py :: INFO     :: Checking for platform darwin\n",
      "tests4py :: INFO     :: Check for activated python version\n",
      "tests4py :: INFO     :: Using pyenv python 3.10.9\n",
      "tests4py :: INFO     :: Activating virtual env\n",
      "tests4py :: INFO     :: Run tests with command ['python', '-m', 'pytest', '--rootdir=/Users/marius/Desktop/work/projects/Tests4Py/notebooks/tmp/middle_1', PosixPath('tests/test_middle.py')]\n",
      "tests4py :: INFO     :: \u001B[1m============================= test session starts ==============================\u001B[0m\n",
      "platform darwin -- Python 3.10.9, pytest-8.0.0, pluggy-1.4.0\n",
      "rootdir: /Users/marius/Desktop/work/projects/Tests4Py/notebooks/tmp/middle_1\n",
      "collected 6 items\n",
      "\n",
      "tests/test_middle.py \u001B[32m.\u001B[0m\u001B[31mF\u001B[0m\u001B[32m.\u001B[0m\u001B[32m.\u001B[0m\u001B[32m.\u001B[0m\u001B[32m.\u001B[0m\u001B[31m                                              [100%]\u001B[0m\n",
      "\n",
      "=================================== FAILURES ===================================\n",
      "\u001B[31m\u001B[1m__________________________ TestMiddle.test_middle_213 __________________________\u001B[0m\n",
      "\n",
      "self = <test_middle.TestMiddle testMethod=test_middle_213>\n",
      "\n",
      "    def test_middle_213(self):\n",
      ">       self.assertEqual(2, middle(2, 1, 3))\n",
      "\u001B[1m\u001B[31mE       AssertionError: 2 != 1\u001B[0m\n",
      "\n",
      "\u001B[1m\u001B[31mtests/test_middle.py\u001B[0m:23: AssertionError\n",
      "\u001B[36m\u001B[1m=========================== short test summary info ============================\u001B[0m\n",
      "\u001B[31mFAILED\u001B[0m tests/test_middle.py::\u001B[1mTestMiddle::test_middle_213\u001B[0m - AssertionError: 2 != 1\n",
      "\u001B[31m========================= \u001B[31m\u001B[1m1 failed\u001B[0m, \u001B[32m5 passed\u001B[0m\u001B[31m in 0.13s\u001B[0m\u001B[31m ==========================\u001B[0m\n",
      "\n",
      "tests4py :: INFO     :: Ran 6 tests\n",
      "tests4py :: INFO     :: 5 passed --- 1 failed\n"
     ]
    },
    {
     "data": {
      "text/plain": [
       "{\n",
       "    \"command\": \"test\",\n",
       "    \"successful\": true,\n",
       "    \"project\": \"middle_1\",\n",
       "    \"location\": \"PosixPath('/Users/marius/Desktop/work/projects/Tests4Py/notebooks/tmp/middle_1')\",\n",
       "    \"total\": 6,\n",
       "    \"passing\": 5,\n",
       "    \"failing\": 1\n",
       "}"
      ]
     },
     "execution_count": 14,
     "metadata": {},
     "output_type": "execute_result"
    }
   ],
   "execution_count": 14
  },
  {
   "cell_type": "markdown",
   "source": [
    "## Unittests\n",
    "\n",
    "Let's generate and execute some unittests. We generate 100 unittests with 10 of them failing."
   ],
   "metadata": {
    "collapsed": false
   },
   "id": "9247f34c441e095c"
  },
  {
   "cell_type": "code",
   "source": [
    "t4p.unittest_generate(n=100, p=10)"
   ],
   "metadata": {
    "collapsed": false,
    "ExecuteTime": {
     "end_time": "2024-04-18T08:47:05.870163Z",
     "start_time": "2024-04-18T08:47:05.784216Z"
    }
   },
   "id": "467112c190a1bd6c",
   "outputs": [
    {
     "name": "stderr",
     "output_type": "stream",
     "text": [
      "tests4py :: INFO     :: Checking whether Tests4Py project\n",
      "tests4py :: INFO     :: Loading projects\n",
      "tests4py :: INFO     :: Generate 100 passing and failing tests with failing probability 0.1 for middle_1 to /Users/marius/Desktop/work/projects/Tests4Py/notebooks/tmp/middle_1/tests4py_unittests.py\n"
     ]
    },
    {
     "data": {
      "text/plain": [
       "{\n",
       "    \"command\": \"unittest\",\n",
       "    \"subcommand\": \"test\",\n",
       "    \"successful\": true,\n",
       "    \"project\": \"middle_1\",\n",
       "    \"total\": 100,\n",
       "    \"passing\": 90,\n",
       "    \"failing\": 10\n",
       "}"
      ]
     },
     "execution_count": 15,
     "metadata": {},
     "output_type": "execute_result"
    }
   ],
   "execution_count": 15
  },
  {
   "cell_type": "markdown",
   "source": [
    "Now we can execute the generated unittests."
   ],
   "metadata": {
    "collapsed": false
   },
   "id": "372b0b5509283ab1"
  },
  {
   "cell_type": "code",
   "source": [
    "t4p.unittest_test(diversity=False)"
   ],
   "metadata": {
    "collapsed": false,
    "ExecuteTime": {
     "end_time": "2024-04-18T08:47:09.782084Z",
     "start_time": "2024-04-18T08:47:08.950636Z"
    }
   },
   "id": "4ee631a7c0ce05ff",
   "outputs": [
    {
     "name": "stderr",
     "output_type": "stream",
     "text": [
      "tests4py :: INFO     :: Checking whether Tests4Py project\n",
      "tests4py :: INFO     :: Loading projects\n",
      "tests4py :: INFO     :: Checking for platform darwin\n",
      "tests4py :: INFO     :: Check for activated python version\n",
      "tests4py :: INFO     :: Using pyenv python 3.10.9\n",
      "tests4py :: INFO     :: Activating virtual env\n",
      "tests4py :: INFO     :: Ran 100 tests\n",
      "tests4py :: INFO     :: 90 passed --- 10 failed\n"
     ]
    },
    {
     "data": {
      "text/plain": [
       "{\n",
       "    \"command\": \"unittest\",\n",
       "    \"subcommand\": \"test\",\n",
       "    \"successful\": true,\n",
       "    \"project\": \"middle_1\",\n",
       "    \"total\": 100,\n",
       "    \"passing\": 90,\n",
       "    \"failing\": 10\n",
       "}"
      ]
     },
     "execution_count": 16,
     "metadata": {},
     "output_type": "execute_result"
    }
   ],
   "execution_count": 16
  },
  {
   "cell_type": "markdown",
   "source": [
    "As you can see 90 of the 100 generated unittests are passing while 10 are failing."
   ],
   "metadata": {
    "collapsed": false
   },
   "id": "df52cefa1287687f"
  },
  {
   "cell_type": "markdown",
   "source": [
    "## System Tests\n",
    "\n",
    "Let's do the same for system tests. We generate 100 system tests with 10 of them failing."
   ],
   "metadata": {
    "collapsed": false
   },
   "id": "8a0ab70e1d2ea7d2"
  },
  {
   "cell_type": "code",
   "source": [
    "t4p.systemtest_generate(n=100, p=10)"
   ],
   "metadata": {
    "collapsed": false,
    "ExecuteTime": {
     "end_time": "2024-04-18T08:47:13.652699Z",
     "start_time": "2024-04-18T08:47:13.554079Z"
    }
   },
   "id": "bf1ce07f17141002",
   "outputs": [
    {
     "name": "stderr",
     "output_type": "stream",
     "text": [
      "tests4py :: INFO     :: Checking whether Tests4Py project\n",
      "tests4py :: INFO     :: Loading projects\n",
      "tests4py :: INFO     :: Generate 100 passing and failing tests with failing probability 0.1 for middle_1 to /Users/marius/Desktop/work/projects/Tests4Py/notebooks/tmp/middle_1/tests4py_systemtests\n"
     ]
    },
    {
     "data": {
      "text/plain": [
       "{\n",
       "    \"command\": \"systemtest\",\n",
       "    \"subcommand\": \"generate\",\n",
       "    \"successful\": true,\n",
       "    \"project\": \"middle_1\",\n",
       "    \"total\": 100,\n",
       "    \"passing\": 90,\n",
       "    \"failing\": 10\n",
       "}"
      ]
     },
     "execution_count": 17,
     "metadata": {},
     "output_type": "execute_result"
    }
   ],
   "execution_count": 17
  },
  {
   "cell_type": "markdown",
   "source": [
    "And now we execute them."
   ],
   "metadata": {
    "collapsed": false
   },
   "id": "d47e2363956cc23b"
  },
  {
   "cell_type": "code",
   "source": [
    "t4p.systemtest_test(diversity=False)"
   ],
   "metadata": {
    "collapsed": false,
    "ExecuteTime": {
     "end_time": "2024-04-18T08:47:27.819167Z",
     "start_time": "2024-04-18T08:47:16.264511Z"
    }
   },
   "id": "63b5db7070563d27",
   "outputs": [
    {
     "name": "stderr",
     "output_type": "stream",
     "text": [
      "tests4py :: INFO     :: Checking whether Tests4Py project\n",
      "tests4py :: INFO     :: Loading projects\n",
      "tests4py :: INFO     :: Checking for platform darwin\n",
      "tests4py :: INFO     :: Check for activated python version\n",
      "tests4py :: INFO     :: Using pyenv python 3.10.9\n",
      "tests4py :: INFO     :: Activating virtual env\n",
      "tests4py :: INFO     :: Ran 100 tests\n",
      "tests4py :: INFO     :: 90 passed --- 10 failed\n"
     ]
    },
    {
     "data": {
      "text/plain": [
       "{\n",
       "    \"command\": \"systemtest\",\n",
       "    \"subcommand\": \"test\",\n",
       "    \"successful\": true,\n",
       "    \"project\": \"middle_1\",\n",
       "    \"total\": 100,\n",
       "    \"passing\": 90,\n",
       "    \"failing\": 10\n",
       "}"
      ]
     },
     "execution_count": 18,
     "metadata": {},
     "output_type": "execute_result"
    }
   ],
   "execution_count": 18
  },
  {
   "cell_type": "markdown",
   "source": [
    "## Executing an Input\n",
    "\n",
    "Tests4Py also allows us to directly execute a specific input."
   ],
   "metadata": {
    "collapsed": false
   },
   "id": "ae0430d99229985f"
  },
  {
   "cell_type": "code",
   "source": [
    "t4p.run(args_or_path=['2', '1', '3'])"
   ],
   "metadata": {
    "collapsed": false,
    "ExecuteTime": {
     "end_time": "2024-04-18T08:47:59.962071Z",
     "start_time": "2024-04-18T08:47:59.605938Z"
    }
   },
   "id": "ea4bc413a1f73137",
   "outputs": [
    {
     "name": "stderr",
     "output_type": "stream",
     "text": [
      "tests4py :: INFO     :: Checking whether Tests4Py project\n",
      "tests4py :: INFO     :: Loading projects\n",
      "tests4py :: INFO     :: Checking for platform darwin\n",
      "tests4py :: INFO     :: Check for activated python version\n",
      "tests4py :: INFO     :: Using pyenv python 3.10.9\n",
      "tests4py :: INFO     :: Activating virtual env\n",
      "tests4py :: INFO     :: Output: \n",
      "1\n",
      "\n",
      "tests4py :: INFO     :: Error: \n",
      "\n"
     ]
    },
    {
     "data": {
      "text/plain": [
       "{\n",
       "    \"command\": \"run\",\n",
       "    \"successful\": true,\n",
       "    \"project\": \"middle_1\",\n",
       "    \"input\": \"['2', '1', '3']\",\n",
       "    \"test_result\": \"UNDEFINED\"\n",
       "}"
      ]
     },
     "execution_count": 19,
     "metadata": {},
     "output_type": "execute_result"
    }
   ],
   "execution_count": 19
  },
  {
   "cell_type": "markdown",
   "source": [
    "The run command can also invoke the oracle to get an actual test result."
   ],
   "metadata": {
    "collapsed": false
   },
   "id": "15661e5a4db51d61"
  },
  {
   "cell_type": "code",
   "source": [
    "t4p.run(args_or_path=['2', '1', '3'], invoke_oracle=True)"
   ],
   "metadata": {
    "collapsed": false,
    "ExecuteTime": {
     "end_time": "2024-04-18T08:48:08.767902Z",
     "start_time": "2024-04-18T08:48:08.463672Z"
    }
   },
   "id": "68fe8ffe152e95f3",
   "outputs": [
    {
     "name": "stderr",
     "output_type": "stream",
     "text": [
      "tests4py :: INFO     :: Checking whether Tests4Py project\n",
      "tests4py :: INFO     :: Loading projects\n",
      "tests4py :: INFO     :: Checking for platform darwin\n",
      "tests4py :: INFO     :: Check for activated python version\n",
      "tests4py :: INFO     :: Using pyenv python 3.10.9\n",
      "tests4py :: INFO     :: Activating virtual env\n",
      "tests4py :: INFO     :: Input was identified as TestResult.FAILING\n",
      "tests4py :: INFO     :: Output: \n",
      "1\n",
      "\n",
      "tests4py :: INFO     :: Error: \n",
      "\n"
     ]
    },
    {
     "data": {
      "text/plain": [
       "{\n",
       "    \"command\": \"run\",\n",
       "    \"successful\": true,\n",
       "    \"project\": \"middle_1\",\n",
       "    \"input\": \"['2', '1', '3']\",\n",
       "    \"test_result\": \"FAILING\",\n",
       "    \"feedback\": \"Expected 2, but was 1\",\n",
       "    \"stdout\": \"1\\n\",\n",
       "    \"stderr\": \"\"\n",
       "}"
      ]
     },
     "execution_count": 20,
     "metadata": {},
     "output_type": "execute_result"
    }
   ],
   "execution_count": 20
  },
  {
   "cell_type": "markdown",
   "source": [
    "## Summary\n",
    "\n",
    "With this information we can now conduct all kinds of experiments for evaluating various testing, repair, and debugging \n",
    "approaches. Since Tests4Py use the local copy of the subject we can modify the subject as we like and execute the\n",
    "various commands on it. These characteristics make Tests4Py a powerful tool and a benchmark of choice for those \n",
    "(and countless other) techniques."
   ],
   "metadata": {
    "collapsed": false
   },
   "id": "ba74689593abf265"
  }
 ],
 "metadata": {
  "kernelspec": {
   "display_name": "Python 3",
   "language": "python",
   "name": "python3"
  },
  "language_info": {
   "codemirror_mode": {
    "name": "ipython",
    "version": 2
   },
   "file_extension": ".py",
   "mimetype": "text/x-python",
   "name": "python",
   "nbconvert_exporter": "python",
   "pygments_lexer": "ipython2",
   "version": "2.7.6"
  }
 },
 "nbformat": 4,
 "nbformat_minor": 5
}
