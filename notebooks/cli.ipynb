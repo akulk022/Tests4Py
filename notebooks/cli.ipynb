{
 "cells": [
  {
   "cell_type": "markdown",
   "source": [
    "# Tests4Py CLI\n",
    "\n",
    "In this notebook we demonstrate the usage of Tests4Py's CLI. We will use the `middle_1` subject as an example in this \n",
    "tutorial."
   ],
   "metadata": {
    "collapsed": false
   },
   "id": "891fa5f035dcc22e"
  },
  {
   "cell_type": "markdown",
   "source": [
    "## Retrieving Information about the Subject\n",
    "\n",
    "Let's start by retrieving information about the subject."
   ],
   "metadata": {
    "collapsed": false
   },
   "id": "6a20bf295223edc8"
  },
  {
   "cell_type": "code",
   "outputs": [
    {
     "name": "stdout",
     "output_type": "stream",
     "text": [
      "tests4py :: INFO     :: Loading projects\r\n",
      "The existing subjects in Tests4Py:\r\n",
      "\r\n",
      "╒══════════════╤══════════╕\r\n",
      "│ project      │   # bugs │\r\n",
      "╞══════════════╪══════════╡\r\n",
      "│ ansible      │       18 │\r\n",
      "├──────────────┼──────────┤\r\n",
      "│ black        │       23 │\r\n",
      "├──────────────┼──────────┤\r\n",
      "│ calculator   │        1 │\r\n",
      "├──────────────┼──────────┤\r\n",
      "│ cookiecutter │        4 │\r\n",
      "├──────────────┼──────────┤\r\n",
      "│ expression   │        1 │\r\n",
      "├──────────────┼──────────┤\r\n",
      "│ fastapi      │       16 │\r\n",
      "├──────────────┼──────────┤\r\n",
      "│ httpie       │        5 │\r\n",
      "├──────────────┼──────────┤\r\n",
      "│ keras        │       45 │\r\n",
      "├──────────────┼──────────┤\r\n",
      "│ luigi        │       33 │\r\n",
      "├──────────────┼──────────┤\r\n",
      "│ markup       │        2 │\r\n",
      "├──────────────┼──────────┤\r\n",
      "│ matplotlib   │       30 │\r\n",
      "├──────────────┼──────────┤\r\n",
      "│ middle       │        2 │\r\n",
      "├──────────────┼──────────┤\r\n",
      "│ pandas       │      169 │\r\n",
      "├──────────────┼──────────┤\r\n",
      "│ pysnooper    │        3 │\r\n",
      "├──────────────┼──────────┤\r\n",
      "│ sanic        │        5 │\r\n",
      "├──────────────┼──────────┤\r\n",
      "│ scrapy       │       40 │\r\n",
      "├──────────────┼──────────┤\r\n",
      "│ spacy        │       10 │\r\n",
      "├──────────────┼──────────┤\r\n",
      "│ thefuck      │       32 │\r\n",
      "├──────────────┼──────────┤\r\n",
      "│ tornado      │       16 │\r\n",
      "├──────────────┼──────────┤\r\n",
      "│ tqdm         │        9 │\r\n",
      "├──────────────┼──────────┤\r\n",
      "│ youtubedl    │        3 │\r\n",
      "╘══════════════╧══════════╛\r\n",
      "\r\n",
      "Set a project to get further information.\r\n"
     ]
    }
   ],
   "source": [
    "! t4p info"
   ],
   "metadata": {
    "collapsed": false,
    "ExecuteTime": {
     "end_time": "2024-01-29T10:39:06.841157Z",
     "start_time": "2024-01-29T10:39:05.995275Z"
    }
   },
   "id": "57cd63b7a9e83a37",
   "execution_count": 1
  },
  {
   "cell_type": "markdown",
   "source": [
    "As you can see, we get a list of all subjects in the database. In the next step we get the \n",
    "information about a specific project."
   ],
   "metadata": {
    "collapsed": false
   },
   "id": "3318b9ef9dbbc311"
  },
  {
   "cell_type": "code",
   "outputs": [
    {
     "name": "stdout",
     "output_type": "stream",
     "text": [
      "tests4py :: INFO     :: Loading projects\r\n",
      "Information for project middle:\r\n",
      "\r\n",
      "╒════════╤════════════════════════════════════╕\r\n",
      "│ Name   │ middle                             │\r\n",
      "├────────┼────────────────────────────────────┤\r\n",
      "│ URL    │ https://github.com/smythi93/middle │\r\n",
      "├────────┼────────────────────────────────────┤\r\n",
      "│ Status │ Status.OK                          │\r\n",
      "├────────┼────────────────────────────────────┤\r\n",
      "│ Bugs   │ 2                                  │\r\n",
      "╘════════╧════════════════════════════════════╛\r\n",
      "\r\n"
     ]
    }
   ],
   "source": [
    "! t4p info -p middle"
   ],
   "metadata": {
    "collapsed": false,
    "ExecuteTime": {
     "end_time": "2024-01-29T10:39:07.653245Z",
     "start_time": "2024-01-29T10:39:06.844081Z"
    }
   },
   "id": "ce123a36d55663e1",
   "execution_count": 2
  },
  {
   "cell_type": "markdown",
   "source": [
    "We can further get the information about the subject by specifying the bug id. Since we are investigating the `middle_1` subject, we will use the bug id `1`."
   ],
   "metadata": {
    "collapsed": false
   },
   "id": "cbae32aeb5c2b256"
  },
  {
   "cell_type": "code",
   "outputs": [
    {
     "name": "stdout",
     "output_type": "stream",
     "text": [
      "tests4py :: INFO     :: Loading projects\r\n",
      "Information for project middle with bug id 1:\r\n",
      "\r\n",
      "╒════════════════╤═══════════════════════════════════════════════════╕\r\n",
      "│ Name           │ middle                                            │\r\n",
      "├────────────────┼───────────────────────────────────────────────────┤\r\n",
      "│ URL            │ https://github.com/smythi93/middle                │\r\n",
      "├────────────────┼───────────────────────────────────────────────────┤\r\n",
      "│ Status         │ Status.OK                                         │\r\n",
      "├────────────────┼───────────────────────────────────────────────────┤\r\n",
      "│ ID             │ 1                                                 │\r\n",
      "├────────────────┼───────────────────────────────────────────────────┤\r\n",
      "│ Python Version │ 3.10.9                                            │\r\n",
      "├────────────────┼───────────────────────────────────────────────────┤\r\n",
      "│ Python Path    │                                                   │\r\n",
      "├────────────────┼───────────────────────────────────────────────────┤\r\n",
      "│ Buggy Commit   │ 15350ede14501997656f2fd49bd5b9af2c8d2582          │\r\n",
      "├────────────────┼───────────────────────────────────────────────────┤\r\n",
      "│ Fixed Commit   │ c0e7b35b1fba9320fe40fe143c89f6b4c7c8979d          │\r\n",
      "├────────────────┼───────────────────────────────────────────────────┤\r\n",
      "│ Test Files     │ tests/test_middle.py                              │\r\n",
      "├────────────────┼───────────────────────────────────────────────────┤\r\n",
      "│ Test Cases     │ tests/test_middle.py::TestMiddle::test_middle_213 │\r\n",
      "├────────────────┼───────────────────────────────────────────────────┤\r\n",
      "│ Unit Tests     │ True                                              │\r\n",
      "├────────────────┼───────────────────────────────────────────────────┤\r\n",
      "│ System Tests   │ True                                              │\r\n",
      "╘════════════════╧═══════════════════════════════════════════════════╛\r\n",
      "\r\n"
     ]
    }
   ],
   "source": [
    "! t4p info -p middle -i 1"
   ],
   "metadata": {
    "collapsed": false,
    "ExecuteTime": {
     "end_time": "2024-01-29T10:39:08.452261Z",
     "start_time": "2024-01-29T10:39:07.655967Z"
    }
   },
   "id": "38de543d2f107597",
   "execution_count": 3
  },
  {
   "cell_type": "markdown",
   "source": [
    "In this information, we get the GitHub link to the subject, the commits for the buggy and its fixed version, the test \n",
    "cases that fail, and if unittest and system test generation is enabled."
   ],
   "metadata": {
    "collapsed": false
   },
   "id": "ea622f8f77cee3be"
  },
  {
   "cell_type": "markdown",
   "source": [
    "## Retrieving the Subject\n",
    "\n",
    "As a next step we can retrieve the subject, such that we have a local copy of it to work with."
   ],
   "metadata": {
    "collapsed": false
   },
   "id": "6d79e06ac3799617"
  },
  {
   "cell_type": "code",
   "outputs": [
    {
     "name": "stdout",
     "output_type": "stream",
     "text": [
      "tests4py :: INFO     :: Loading projects\r\n",
      "tests4py :: INFO     :: PROJECT_NAME: middle\r\n",
      "tests4py :: INFO     :: BUG_ID: 1\r\n",
      "tests4py :: INFO     :: FIXED: False\r\n",
      "tests4py :: INFO     :: WORK_DIR: /Users/marius/Desktop/work/projects/Tests4Py/notebooks/tmp\r\n",
      "tests4py :: INFO     :: Loading projects\r\n",
      "tests4py :: INFO     :: Copying https://github.com/smythi93/middle from /Users/marius/.t4p/projects/middle into /Users/marius/Desktop/work/projects/Tests4Py/notebooks/tmp/middle_1... \r\n",
      "tests4py :: INFO     :: Resetting git at /Users/marius/Desktop/work/projects/Tests4Py/notebooks/tmp/middle_1 to c0e7b35b1fba9320fe40fe143c89f6b4c7c8979d\r\n",
      "tests4py :: INFO     :: Creating tmp location at /Users/marius/Desktop/work/projects/Tests4Py/notebooks/tmp/tmp_middle\r\n",
      "tests4py :: INFO     :: Copying required files to /Users/marius/Desktop/work/projects/Tests4Py/notebooks/tmp/tmp_middle\r\n",
      "tests4py :: INFO     :: Checkout buggy commit id 15350ede14501997656f2fd49bd5b9af2c8d2582\r\n",
      "tests4py :: INFO     :: Copying required files from /Users/marius/Desktop/work/projects/Tests4Py/notebooks/tmp/tmp_middle\r\n",
      "tests4py :: INFO     :: Create info file\r\n",
      "tests4py :: INFO     :: Copying resources for middle_1\r\n"
     ]
    }
   ],
   "source": [
    "! t4p checkout -p middle -i 1"
   ],
   "metadata": {
    "collapsed": false,
    "ExecuteTime": {
     "end_time": "2024-01-29T10:39:09.783781Z",
     "start_time": "2024-01-29T10:39:08.457894Z"
    }
   },
   "id": "3949545169f557f9",
   "execution_count": 4
  },
  {
   "cell_type": "markdown",
   "source": [
    "## Installing the Subject\n",
    "\n",
    "Now we can build the subject. This will install all dependencies and the subject in a virtual environment. \n",
    "It may also install the correct Python version, if it is not already installed (Note that this may take a while)."
   ],
   "metadata": {
    "collapsed": false
   },
   "id": "63bc42a0642c3304"
  },
  {
   "cell_type": "code",
   "outputs": [
    {
     "name": "stdout",
     "output_type": "stream",
     "text": [
      "tests4py :: INFO     :: Loading projects\r\n",
      "tests4py :: INFO     :: Checking whether Tests4Py project\r\n",
      "tests4py :: INFO     :: Loading projects\r\n",
      "tests4py :: INFO     :: Checking for platform darwin\r\n",
      "tests4py :: INFO     :: Check for activated python version\r\n",
      "tests4py :: INFO     :: Using pyenv python 3.10.9\r\n",
      "tests4py :: INFO     :: Activating virtual env\r\n",
      "tests4py :: INFO     :: Run setup\r\n",
      "tests4py :: INFO     :: Set compiled flag\r\n"
     ]
    }
   ],
   "source": [
    "! t4p build"
   ],
   "metadata": {
    "collapsed": false,
    "ExecuteTime": {
     "end_time": "2024-01-29T10:39:16.572503Z",
     "start_time": "2024-01-29T10:39:09.785864Z"
    }
   },
   "id": "3dc1890ba4a6ec0e",
   "execution_count": 5
  },
  {
   "cell_type": "markdown",
   "source": [
    "## Executing the Failing Test Cases\n",
    "\n",
    "Let's execute the failing test cases (in this case, we only have one)."
   ],
   "metadata": {
    "collapsed": false
   },
   "id": "c46ad1515454ada0"
  },
  {
   "cell_type": "code",
   "outputs": [
    {
     "name": "stdout",
     "output_type": "stream",
     "text": [
      "tests4py :: INFO     :: Loading projects\r\n",
      "tests4py :: INFO     :: Checking whether Tests4Py project\r\n",
      "tests4py :: INFO     :: Loading projects\r\n",
      "tests4py :: INFO     :: Checking for platform darwin\r\n",
      "tests4py :: INFO     :: Check for activated python version\r\n",
      "tests4py :: INFO     :: Using pyenv python 3.10.9\r\n",
      "tests4py :: INFO     :: Activating virtual env\r\n",
      "tests4py :: INFO     :: Run relevant tests ['tests/test_middle.py::TestMiddle::test_middle_213']\r\n",
      "tests4py :: INFO     :: Run tests with command ['python', '-m', 'pytest', 'tests/test_middle.py::TestMiddle::test_middle_213']\r\n",
      "tests4py :: INFO     :: \u001B[1m============================= test session starts ==============================\u001B[0m\r\n",
      "platform darwin -- Python 3.10.9, pytest-7.4.4, pluggy-1.3.0\r\n",
      "rootdir: /Users/marius/Desktop/work/projects/Tests4Py/notebooks/tmp/middle_1\r\n",
      "collected 1 item\r\n",
      "\r\n",
      "tests/test_middle.py \u001B[31mF\u001B[0m\u001B[31m                                                   [100%]\u001B[0m\r\n",
      "\r\n",
      "=================================== FAILURES ===================================\r\n",
      "\u001B[31m\u001B[1m__________________________ TestMiddle.test_middle_213 __________________________\u001B[0m\r\n",
      "\r\n",
      "self = <test_middle.TestMiddle testMethod=test_middle_213>\r\n",
      "\r\n",
      "    def test_middle_213(self):\r\n",
      ">       self.assertEqual(2, middle(2, 1, 3))\r\n",
      "\u001B[1m\u001B[31mE       AssertionError: 2 != 1\u001B[0m\r\n",
      "\r\n",
      "\u001B[1m\u001B[31mtests/test_middle.py\u001B[0m:23: AssertionError\r\n",
      "\u001B[36m\u001B[1m=========================== short test summary info ============================\u001B[0m\r\n",
      "\u001B[31mFAILED\u001B[0m tests/test_middle.py::\u001B[1mTestMiddle::test_middle_213\u001B[0m - AssertionError: 2 != 1\r\n",
      "\u001B[31m============================== \u001B[31m\u001B[1m1 failed\u001B[0m\u001B[31m in 0.05s\u001B[0m\u001B[31m ===============================\u001B[0m\r\n",
      "\r\n",
      "tests4py :: INFO     :: Ran 1 tests\r\n",
      "tests4py :: INFO     :: 0 passed --- 1 failed\r\n"
     ]
    }
   ],
   "source": [
    "! t4p test"
   ],
   "metadata": {
    "collapsed": false,
    "ExecuteTime": {
     "end_time": "2024-01-29T10:39:18.568475Z",
     "start_time": "2024-01-29T10:39:16.563871Z"
    }
   },
   "id": "bc9c88c82b465150",
   "execution_count": 6
  },
  {
   "cell_type": "markdown",
   "source": [
    "We can also execute all tests or all relevant tests (i.e. the tests closely related to the failing one) in the subject \n",
    "by setting the `-a` parameter or `-r` flags, respectively."
   ],
   "metadata": {
    "collapsed": false
   },
   "id": "1b2bad2e6b1a8e3d"
  },
  {
   "cell_type": "code",
   "outputs": [
    {
     "name": "stdout",
     "output_type": "stream",
     "text": [
      "tests4py :: INFO     :: Loading projects\r\n",
      "tests4py :: INFO     :: Checking whether Tests4Py project\r\n",
      "tests4py :: INFO     :: Loading projects\r\n",
      "tests4py :: INFO     :: Checking for platform darwin\r\n",
      "tests4py :: INFO     :: Check for activated python version\r\n",
      "tests4py :: INFO     :: Using pyenv python 3.10.9\r\n",
      "tests4py :: INFO     :: Activating virtual env\r\n",
      "tests4py :: INFO     :: Run tests with command ['python', '-m', 'pytest', PosixPath('tests')]\r\n",
      "tests4py :: INFO     :: \u001B[1m============================= test session starts ==============================\u001B[0m\r\n",
      "platform darwin -- Python 3.10.9, pytest-7.4.4, pluggy-1.3.0\r\n",
      "rootdir: /Users/marius/Desktop/work/projects/Tests4Py/notebooks/tmp/middle_1\r\n",
      "collected 6 items\r\n",
      "\r\n",
      "tests/test_middle.py \u001B[32m.\u001B[0m\u001B[31mF\u001B[0m\u001B[32m.\u001B[0m\u001B[32m.\u001B[0m\u001B[32m.\u001B[0m\u001B[32m.\u001B[0m\u001B[31m                                              [100%]\u001B[0m\r\n",
      "\r\n",
      "=================================== FAILURES ===================================\r\n",
      "\u001B[31m\u001B[1m__________________________ TestMiddle.test_middle_213 __________________________\u001B[0m\r\n",
      "\r\n",
      "self = <test_middle.TestMiddle testMethod=test_middle_213>\r\n",
      "\r\n",
      "    def test_middle_213(self):\r\n",
      ">       self.assertEqual(2, middle(2, 1, 3))\r\n",
      "\u001B[1m\u001B[31mE       AssertionError: 2 != 1\u001B[0m\r\n",
      "\r\n",
      "\u001B[1m\u001B[31mtests/test_middle.py\u001B[0m:23: AssertionError\r\n",
      "\u001B[36m\u001B[1m=========================== short test summary info ============================\u001B[0m\r\n",
      "\u001B[31mFAILED\u001B[0m tests/test_middle.py::\u001B[1mTestMiddle::test_middle_213\u001B[0m - AssertionError: 2 != 1\r\n",
      "\u001B[31m========================= \u001B[31m\u001B[1m1 failed\u001B[0m, \u001B[32m5 passed\u001B[0m\u001B[31m in 0.06s\u001B[0m\u001B[31m ==========================\u001B[0m\r\n",
      "\r\n",
      "tests4py :: INFO     :: Ran 6 tests\r\n",
      "tests4py :: INFO     :: 5 passed --- 1 failed\r\n"
     ]
    }
   ],
   "source": [
    "! t4p test -a"
   ],
   "metadata": {
    "collapsed": false,
    "ExecuteTime": {
     "end_time": "2024-01-29T10:39:19.974783Z",
     "start_time": "2024-01-29T10:39:18.563115Z"
    }
   },
   "id": "f0ce801f15f2dcd4",
   "execution_count": 7
  },
  {
   "cell_type": "code",
   "outputs": [
    {
     "name": "stdout",
     "output_type": "stream",
     "text": [
      "tests4py :: INFO     :: Loading projects\r\n",
      "tests4py :: INFO     :: Checking whether Tests4Py project\r\n",
      "tests4py :: INFO     :: Loading projects\r\n",
      "tests4py :: INFO     :: Checking for platform darwin\r\n",
      "tests4py :: INFO     :: Check for activated python version\r\n",
      "tests4py :: INFO     :: Using pyenv python 3.10.9\r\n",
      "tests4py :: INFO     :: Activating virtual env\r\n",
      "tests4py :: INFO     :: Run tests with command ['python', '-m', 'pytest', PosixPath('tests/test_middle.py')]\r\n",
      "tests4py :: INFO     :: \u001B[1m============================= test session starts ==============================\u001B[0m\r\n",
      "platform darwin -- Python 3.10.9, pytest-7.4.4, pluggy-1.3.0\r\n",
      "rootdir: /Users/marius/Desktop/work/projects/Tests4Py/notebooks/tmp/middle_1\r\n",
      "collected 6 items\r\n",
      "\r\n",
      "tests/test_middle.py \u001B[32m.\u001B[0m\u001B[31mF\u001B[0m\u001B[32m.\u001B[0m\u001B[32m.\u001B[0m\u001B[32m.\u001B[0m\u001B[32m.\u001B[0m\u001B[31m                                              [100%]\u001B[0m\r\n",
      "\r\n",
      "=================================== FAILURES ===================================\r\n",
      "\u001B[31m\u001B[1m__________________________ TestMiddle.test_middle_213 __________________________\u001B[0m\r\n",
      "\r\n",
      "self = <test_middle.TestMiddle testMethod=test_middle_213>\r\n",
      "\r\n",
      "    def test_middle_213(self):\r\n",
      ">       self.assertEqual(2, middle(2, 1, 3))\r\n",
      "\u001B[1m\u001B[31mE       AssertionError: 2 != 1\u001B[0m\r\n",
      "\r\n",
      "\u001B[1m\u001B[31mtests/test_middle.py\u001B[0m:23: AssertionError\r\n",
      "\u001B[36m\u001B[1m=========================== short test summary info ============================\u001B[0m\r\n",
      "\u001B[31mFAILED\u001B[0m tests/test_middle.py::\u001B[1mTestMiddle::test_middle_213\u001B[0m - AssertionError: 2 != 1\r\n",
      "\u001B[31m========================= \u001B[31m\u001B[1m1 failed\u001B[0m, \u001B[32m5 passed\u001B[0m\u001B[31m in 0.05s\u001B[0m\u001B[31m ==========================\u001B[0m\r\n",
      "\r\n",
      "tests4py :: INFO     :: Ran 6 tests\r\n",
      "tests4py :: INFO     :: 5 passed --- 1 failed\r\n"
     ]
    }
   ],
   "source": [
    "! t4p test -r"
   ],
   "metadata": {
    "collapsed": false,
    "ExecuteTime": {
     "end_time": "2024-01-29T10:39:21.395257Z",
     "start_time": "2024-01-29T10:39:19.976141Z"
    }
   },
   "id": "72a586a1c062d061",
   "execution_count": 8
  },
  {
   "cell_type": "markdown",
   "source": [
    "## Unittests\n",
    "\n",
    "Let's generate and execute some unittests. We generate 100 unittests with 10 of them failing."
   ],
   "metadata": {
    "collapsed": false
   },
   "id": "9247f34c441e095c"
  },
  {
   "cell_type": "code",
   "outputs": [
    {
     "name": "stdout",
     "output_type": "stream",
     "text": [
      "tests4py :: INFO     :: Loading projects\r\n",
      "tests4py :: INFO     :: Checking whether Tests4Py project\r\n",
      "tests4py :: INFO     :: Loading projects\r\n",
      "tests4py :: INFO     :: Generate 100 passing and failing tests with failing probability 0.1 for middle_1 to /Users/marius/Desktop/work/projects/Tests4Py/notebooks/tmp/middle_1/tests4py_unittests.py\r\n"
     ]
    }
   ],
   "source": [
    "! t4p unittest generate -n 100 -f 10"
   ],
   "metadata": {
    "collapsed": false,
    "ExecuteTime": {
     "end_time": "2024-01-29T10:39:22.295765Z",
     "start_time": "2024-01-29T10:39:21.397235Z"
    }
   },
   "id": "467112c190a1bd6c",
   "execution_count": 9
  },
  {
   "cell_type": "markdown",
   "source": [
    "Now we can execute the generated unittests."
   ],
   "metadata": {
    "collapsed": false
   },
   "id": "372b0b5509283ab1"
  },
  {
   "cell_type": "code",
   "outputs": [
    {
     "name": "stdout",
     "output_type": "stream",
     "text": [
      "tests4py :: INFO     :: Loading projects\r\n",
      "tests4py :: INFO     :: Checking whether Tests4Py project\r\n",
      "tests4py :: INFO     :: Loading projects\r\n",
      "tests4py :: INFO     :: Checking for platform darwin\r\n",
      "tests4py :: INFO     :: Check for activated python version\r\n",
      "tests4py :: INFO     :: Using pyenv python 3.10.9\r\n",
      "tests4py :: INFO     :: Activating virtual env\r\n",
      "tests4py :: INFO     :: Ran 100 tests\r\n",
      "tests4py :: INFO     :: 90 passed --- 10 failed\r\n"
     ]
    }
   ],
   "source": [
    "! t4p unittest test"
   ],
   "metadata": {
    "collapsed": false,
    "ExecuteTime": {
     "end_time": "2024-01-29T10:39:23.915917Z",
     "start_time": "2024-01-29T10:39:22.296436Z"
    }
   },
   "id": "4ee631a7c0ce05ff",
   "execution_count": 10
  },
  {
   "cell_type": "markdown",
   "source": [
    "As you can see 90 of the 100 generated unittests are passing while 10 are failing."
   ],
   "metadata": {
    "collapsed": false
   },
   "id": "df52cefa1287687f"
  },
  {
   "cell_type": "markdown",
   "source": [
    "## System Tests\n",
    "\n",
    "Let's do the same for system tests. We generate 100 system tests with 10 of them failing."
   ],
   "metadata": {
    "collapsed": false
   },
   "id": "8a0ab70e1d2ea7d2"
  },
  {
   "cell_type": "code",
   "outputs": [
    {
     "name": "stdout",
     "output_type": "stream",
     "text": [
      "tests4py :: INFO     :: Loading projects\r\n",
      "tests4py :: INFO     :: Checking whether Tests4Py project\r\n",
      "tests4py :: INFO     :: Loading projects\r\n",
      "tests4py :: INFO     :: Generate 100 passing and failing tests with failing probability 0.1 for middle_1 to /Users/marius/Desktop/work/projects/Tests4Py/notebooks/tmp/middle_1/tests4py_systemtests\r\n"
     ]
    }
   ],
   "source": [
    "! t4p systemtest generate -n 100 -f 10"
   ],
   "metadata": {
    "collapsed": false,
    "ExecuteTime": {
     "end_time": "2024-01-29T10:39:24.785962Z",
     "start_time": "2024-01-29T10:39:23.903886Z"
    }
   },
   "id": "bf1ce07f17141002",
   "execution_count": 11
  },
  {
   "cell_type": "markdown",
   "source": [
    "And now we execute them."
   ],
   "metadata": {
    "collapsed": false
   },
   "id": "d47e2363956cc23b"
  },
  {
   "cell_type": "code",
   "outputs": [
    {
     "name": "stdout",
     "output_type": "stream",
     "text": [
      "tests4py :: INFO     :: Loading projects\r\n",
      "tests4py :: INFO     :: Checking whether Tests4Py project\r\n",
      "tests4py :: INFO     :: Loading projects\r\n",
      "tests4py :: INFO     :: Checking for platform darwin\r\n",
      "tests4py :: INFO     :: Check for activated python version\r\n",
      "tests4py :: INFO     :: Using pyenv python 3.10.9\r\n",
      "tests4py :: INFO     :: Activating virtual env\r\n",
      "tests4py :: INFO     :: Ran 100 tests\r\n",
      "tests4py :: INFO     :: 90 passed --- 10 failed\r\n"
     ]
    }
   ],
   "source": [
    "! t4p systemtest test"
   ],
   "metadata": {
    "collapsed": false,
    "ExecuteTime": {
     "end_time": "2024-01-29T10:39:36.558060Z",
     "start_time": "2024-01-29T10:39:24.787862Z"
    }
   },
   "id": "63b5db7070563d27",
   "execution_count": 12
  },
  {
   "cell_type": "markdown",
   "source": [
    "## Executing an Input\n",
    "\n",
    "Tests4Py also allows us to directly execute a specific input."
   ],
   "metadata": {
    "collapsed": false
   },
   "id": "ae0430d99229985f"
  },
  {
   "cell_type": "code",
   "outputs": [
    {
     "name": "stdout",
     "output_type": "stream",
     "text": [
      "tests4py :: INFO     :: Loading projects\r\n",
      "tests4py :: INFO     :: Checking whether Tests4Py project\r\n",
      "tests4py :: INFO     :: Loading projects\r\n",
      "tests4py :: INFO     :: Checking for platform darwin\r\n",
      "tests4py :: INFO     :: Check for activated python version\r\n",
      "tests4py :: INFO     :: Using pyenv python 3.10.9\r\n",
      "tests4py :: INFO     :: Activating virtual env\r\n",
      "1\r\n"
     ]
    }
   ],
   "source": [
    "! t4p run 2 1 3"
   ],
   "metadata": {
    "collapsed": false,
    "ExecuteTime": {
     "end_time": "2024-01-29T10:39:37.654152Z",
     "start_time": "2024-01-29T10:39:36.559894Z"
    }
   },
   "id": "ea4bc413a1f73137",
   "execution_count": 13
  },
  {
   "cell_type": "markdown",
   "source": [
    "The run command can also invoke the oracle to get an actual test result."
   ],
   "metadata": {
    "collapsed": false
   },
   "id": "15661e5a4db51d61"
  },
  {
   "cell_type": "code",
   "outputs": [
    {
     "name": "stdout",
     "output_type": "stream",
     "text": [
      "tests4py :: INFO     :: Loading projects\r\n",
      "tests4py :: INFO     :: Checking whether Tests4Py project\r\n",
      "tests4py :: INFO     :: Loading projects\r\n",
      "tests4py :: INFO     :: Checking for platform darwin\r\n",
      "tests4py :: INFO     :: Check for activated python version\r\n",
      "tests4py :: INFO     :: Using pyenv python 3.10.9\r\n",
      "tests4py :: INFO     :: Activating virtual env\r\n",
      "tests4py :: INFO     :: Input was identified as TestResult.FAILING\r\n"
     ]
    }
   ],
   "source": [
    "! t4p run -o 2 1 3"
   ],
   "metadata": {
    "collapsed": false,
    "ExecuteTime": {
     "end_time": "2024-01-29T10:39:38.714572Z",
     "start_time": "2024-01-29T10:39:37.655193Z"
    }
   },
   "id": "68fe8ffe152e95f3",
   "execution_count": 14
  },
  {
   "cell_type": "markdown",
   "source": [
    "## Summary\n",
    "\n",
    "With this information we can now conduct all kinds of experiments for evaluating various testing, repair, and debugging \n",
    "approaches. Since Tests4Py use the local copy of the subject we can modify the subject as we like and execute the\n",
    "various commands on it. These characteristics make Tests4Py a powerful tool and a benchmark of choice for those \n",
    "(and countless other) techniques."
   ],
   "metadata": {
    "collapsed": false
   },
   "id": "ba74689593abf265"
  }
 ],
 "metadata": {
  "kernelspec": {
   "display_name": "Python 3",
   "language": "python",
   "name": "python3"
  },
  "language_info": {
   "codemirror_mode": {
    "name": "ipython",
    "version": 2
   },
   "file_extension": ".py",
   "mimetype": "text/x-python",
   "name": "python",
   "nbconvert_exporter": "python",
   "pygments_lexer": "ipython2",
   "version": "2.7.6"
  }
 },
 "nbformat": 4,
 "nbformat_minor": 5
}
