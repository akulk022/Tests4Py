{
 "cells": [
  {
   "cell_type": "markdown",
   "source": [
    "# Tests4Py Statistical Fault Localization\n",
    "\n",
    "In this notebook we demonstrate the usage of Tests4Py in the context of statistical fault localization. \n",
    "We will use the `middle_2` subject as an example in this tutorial."
   ],
   "metadata": {
    "collapsed": false
   },
   "id": "891fa5f035dcc22e"
  },
  {
   "cell_type": "markdown",
   "source": [
    "## Importing the API\n",
    "\n",
    "To get access to the API, we need to import the `tests4py` module."
   ],
   "metadata": {
    "collapsed": false
   },
   "id": "5e50db83da409da7"
  },
  {
   "cell_type": "code",
   "outputs": [
    {
     "name": "stderr",
     "output_type": "stream",
     "text": [
      "tests4py :: INFO     :: Loading projects\n"
     ]
    }
   ],
   "source": [
    "from pathlib import Path\n",
    "\n",
    "import tests4py.api as t4p\n",
    "from tests4py import sfl"
   ],
   "metadata": {
    "collapsed": false,
    "ExecuteTime": {
     "end_time": "2024-01-29T14:24:05.061658Z",
     "start_time": "2024-01-29T14:24:04.565124Z"
    }
   },
   "id": "10fc00f9b2adef94",
   "execution_count": 1
  },
  {
   "cell_type": "markdown",
   "source": [
    "## Retrieving the Subject\n",
    "\n",
    "As a next step we can retrieve the subject, such that we have a local copy of it to work with."
   ],
   "metadata": {
    "collapsed": false
   },
   "id": "6d79e06ac3799617"
  },
  {
   "cell_type": "code",
   "outputs": [
    {
     "name": "stderr",
     "output_type": "stream",
     "text": [
      "tests4py :: INFO     :: Copying https://github.com/smythi93/middle from /Users/marius/.t4p/projects/middle into /Users/marius/Desktop/work/projects/Tests4Py/notebooks/tmp/middle_2... \n",
      "tests4py :: INFO     :: Resetting git at /Users/marius/Desktop/work/projects/Tests4Py/notebooks/tmp/middle_2 to 029cb8beb7bfc0f2853dfa9504dcdfcc753b051e\n",
      "tests4py :: INFO     :: Creating tmp location at /Users/marius/Desktop/work/projects/Tests4Py/notebooks/tmp/tmp_middle\n",
      "tests4py :: INFO     :: Copying required files to /Users/marius/Desktop/work/projects/Tests4Py/notebooks/tmp/tmp_middle\n",
      "tests4py :: INFO     :: Checkout buggy commit id eed99fa2741bd28744231dfcac0ea34679532bf9\n",
      "tests4py :: INFO     :: Copying required files from /Users/marius/Desktop/work/projects/Tests4Py/notebooks/tmp/tmp_middle\n",
      "tests4py :: INFO     :: Create info file\n",
      "tests4py :: INFO     :: Copying resources for middle_2\n"
     ]
    }
   ],
   "source": [
    "report = t4p.checkout(t4p.middle_2)"
   ],
   "metadata": {
    "collapsed": false,
    "ExecuteTime": {
     "end_time": "2024-01-29T14:24:05.212743Z",
     "start_time": "2024-01-29T14:24:05.064971Z"
    }
   },
   "id": "3949545169f557f9",
   "execution_count": 2
  },
  {
   "cell_type": "markdown",
   "source": [
    "We will use the `report` to extract the original source since fault localization may need it later on."
   ],
   "metadata": {
    "collapsed": false
   },
   "id": "3f8aa9b3c1a70a8c"
  },
  {
   "cell_type": "code",
   "outputs": [],
   "source": [
    "src = report.location"
   ],
   "metadata": {
    "collapsed": false,
    "ExecuteTime": {
     "end_time": "2024-01-29T14:24:05.232495Z",
     "start_time": "2024-01-29T14:24:05.216243Z"
    }
   },
   "id": "fd67a7da260a3a2c",
   "execution_count": 3
  },
  {
   "cell_type": "markdown",
   "source": [
    "## Instrumenting the Subject\n",
    "\n",
    "Now we can instrument the subject to retrieve the fault localization information. \n",
    "This will also install all dependencies and the subject in a virtual environment. \n",
    "It may also install the correct Python version, if it is not already installed (Note that this may take a while)."
   ],
   "metadata": {
    "collapsed": false
   },
   "id": "63bc42a0642c3304"
  },
  {
   "cell_type": "code",
   "outputs": [
    {
     "name": "stderr",
     "output_type": "stream",
     "text": [
      "tests4py :: INFO     :: Checking whether Tests4Py project\n",
      "tests4py :: INFO     :: Loading projects\n",
      "sflkit :: INFO     :: I found 10 events in /Users/marius/Desktop/work/projects/Tests4Py/notebooks/tmp/middle_2/src/middle/__init__.py.\n",
      "sflkit :: INFO     :: I found 10 events in /Users/marius/Desktop/work/projects/Tests4Py/notebooks/tmp/middle_2.\n",
      "tests4py :: INFO     :: Checking whether Tests4Py project\n",
      "tests4py :: INFO     :: Loading projects\n",
      "tests4py :: INFO     :: Checking for platform darwin\n",
      "tests4py :: INFO     :: Check for activated python version\n",
      "tests4py :: INFO     :: Using pyenv python 3.10.9\n",
      "tests4py :: INFO     :: Activating virtual env\n",
      "tests4py :: INFO     :: Run setup\n",
      "\u001B[33mWARNING: There was an error checking the latest version of pip.\u001B[0m\u001B[33m\n",
      "\u001B[0mtests4py :: INFO     :: Set compiled flag\n"
     ]
    },
    {
     "data": {
      "text/plain": "{\n    \"command\": \"sfl\",\n    \"subcommand\": \"instrument\",\n    \"successful\": true,\n    \"project\": \"middle_2\"\n}"
     },
     "execution_count": 4,
     "metadata": {},
     "output_type": "execute_result"
    }
   ],
   "source": [
    "dst = Path(\"tmp\", \"sfl\")\n",
    "sfl.sflkit_instrument(dst, events=\"line\")"
   ],
   "metadata": {
    "collapsed": false,
    "ExecuteTime": {
     "end_time": "2024-01-29T14:24:11.889777Z",
     "start_time": "2024-01-29T14:24:05.224683Z"
    }
   },
   "id": "3dc1890ba4a6ec0e",
   "execution_count": 4
  },
  {
   "cell_type": "markdown",
   "source": [
    "## Executing the Relevant Tests\n",
    "\n",
    "Let's execute the relevant test cases to get the fault localization information."
   ],
   "metadata": {
    "collapsed": false
   },
   "id": "c46ad1515454ada0"
  },
  {
   "cell_type": "code",
   "outputs": [
    {
     "name": "stderr",
     "output_type": "stream",
     "text": [
      "tests4py :: INFO     :: Checking whether Tests4Py project\n",
      "tests4py :: INFO     :: Loading projects\n",
      "tests4py :: INFO     :: Checking for platform darwin\n",
      "tests4py :: INFO     :: Check for activated python version\n",
      "tests4py :: INFO     :: Using pyenv python 3.10.9\n",
      "tests4py :: INFO     :: Activating virtual env\n"
     ]
    },
    {
     "data": {
      "text/plain": "{\n    \"command\": \"sfl\",\n    \"subcommand\": \"events\",\n    \"successful\": true,\n    \"project\": \"middle_2\"\n}"
     },
     "execution_count": 5,
     "metadata": {},
     "output_type": "execute_result"
    }
   ],
   "source": [
    "sfl.sflkit_get_events(work_dir_or_project=dst)"
   ],
   "metadata": {
    "collapsed": false,
    "ExecuteTime": {
     "end_time": "2024-01-29T14:24:15.097916Z",
     "start_time": "2024-01-29T14:24:11.892845Z"
    }
   },
   "id": "bc9c88c82b465150",
   "execution_count": 5
  },
  {
   "cell_type": "markdown",
   "source": [
    "## Analyzing the Fault Localization Information\n",
    "\n",
    "Now we can leverage the fault localization information to analyze the subject and find the most likely faulty lines."
   ],
   "metadata": {
    "collapsed": false
   },
   "id": "21b6a3051ab99c85"
  },
  {
   "cell_type": "code",
   "outputs": [
    {
     "name": "stderr",
     "output_type": "stream",
     "text": [
      "tests4py :: INFO     :: Checking whether Tests4Py project\n",
      "tests4py :: INFO     :: Loading projects\n"
     ]
    }
   ],
   "source": [
    "report = sfl.sflkit_analyze(work_dir_or_project=dst, \n",
    "                            src=src,\n",
    "                            predicates=\"line\")"
   ],
   "metadata": {
    "collapsed": false,
    "ExecuteTime": {
     "end_time": "2024-01-29T14:24:15.160319Z",
     "start_time": "2024-01-29T14:24:15.101341Z"
    }
   },
   "id": "278348c2a5c756bc",
   "execution_count": 6
  },
  {
   "cell_type": "markdown",
   "source": [
    "Now we retrieve the suggested lines based on the Ochiai metric."
   ],
   "metadata": {
    "collapsed": false
   },
   "id": "6f2db7c391984565"
  },
  {
   "cell_type": "code",
   "outputs": [
    {
     "data": {
      "text/plain": "[[src/middle/__init__.py:6]:0.7071067811865475,\n [src/middle/__init__.py:5]:0.5773502691896258,\n [src/middle/__init__.py:3]:0.5,\n [src/middle/__init__.py:2]:0.4082482904638631,\n [src/middle/__init__.py:12, src/middle/__init__.py:4, src/middle/__init__.py:10, src/middle/__init__.py:8, src/middle/__init__.py:9]:0.0]"
     },
     "execution_count": 7,
     "metadata": {},
     "output_type": "execute_result"
    }
   ],
   "source": [
    "from sflkit.analysis.analysis_type import AnalysisType\n",
    "from sflkit.analysis.spectra import Spectrum\n",
    "\n",
    "suggestions = report.analyzer.get_sorted_suggestions(src,\n",
    "            type_=AnalysisType.LINE,\n",
    "            metric=Spectrum.Ochiai,)\n",
    "suggestions"
   ],
   "metadata": {
    "collapsed": false,
    "ExecuteTime": {
     "end_time": "2024-01-29T14:24:15.187401Z",
     "start_time": "2024-01-29T14:24:15.165985Z"
    }
   },
   "id": "ae894410a7d93cca",
   "execution_count": 7
  },
  {
   "cell_type": "markdown",
   "source": [
    "## Evaluation\n",
    "\n",
    "With Tests4Py we can get the faulty lines, i.e. the lines that were changed with the fix."
   ],
   "metadata": {
    "collapsed": false
   },
   "id": "bf1825a469ca2f19"
  },
  {
   "cell_type": "code",
   "outputs": [
    {
     "data": {
      "text/plain": "[src/middle/__init__.py:6]"
     },
     "execution_count": 8,
     "metadata": {},
     "output_type": "execute_result"
    }
   ],
   "source": [
    "faulty_lines = t4p.get_faulty_lines(t4p.middle_2)\n",
    "faulty_lines"
   ],
   "metadata": {
    "collapsed": false,
    "ExecuteTime": {
     "end_time": "2024-01-29T14:24:15.188807Z",
     "start_time": "2024-01-29T14:24:15.175103Z"
    }
   },
   "id": "c061930134ccb9d2",
   "execution_count": 8
  },
  {
   "cell_type": "markdown",
   "source": [
    "As you can see, the top suggested line is indeed the correctly evaluated faulty line."
   ],
   "metadata": {
    "collapsed": false
   },
   "id": "5ae0956352f4d326"
  },
  {
   "cell_type": "code",
   "outputs": [],
   "source": [
    "assert faulty_lines[0] in suggestions[0].lines"
   ],
   "metadata": {
    "collapsed": false,
    "ExecuteTime": {
     "end_time": "2024-01-29T14:24:15.189706Z",
     "start_time": "2024-01-29T14:24:15.181075Z"
    }
   },
   "id": "bb2d4dc6504d1f0a",
   "execution_count": 9
  },
  {
   "cell_type": "markdown",
   "source": [
    "## Summary\n",
    "\n",
    "Tests4Py is with its direct integration of fault localization tools a powerful tool to analyze approaches\n",
    "in this area."
   ],
   "metadata": {
    "collapsed": false
   },
   "id": "ba74689593abf265"
  }
 ],
 "metadata": {
  "kernelspec": {
   "display_name": "Python 3",
   "language": "python",
   "name": "python3"
  },
  "language_info": {
   "codemirror_mode": {
    "name": "ipython",
    "version": 2
   },
   "file_extension": ".py",
   "mimetype": "text/x-python",
   "name": "python",
   "nbconvert_exporter": "python",
   "pygments_lexer": "ipython2",
   "version": "2.7.6"
  }
 },
 "nbformat": 4,
 "nbformat_minor": 5
}
