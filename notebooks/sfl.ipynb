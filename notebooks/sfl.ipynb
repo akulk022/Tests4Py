{
 "cells": [
  {
   "cell_type": "markdown",
   "source": [
    "# Tests4Py Statistical Fault Localization\n",
    "\n",
    "In this notebook we demonstrate the usage of Tests4Py in the context of statistical fault localization. \n",
    "We will use the `middle_1` subject as an example in this tutorial."
   ],
   "metadata": {
    "collapsed": false
   },
   "id": "891fa5f035dcc22e"
  },
  {
   "cell_type": "markdown",
   "source": [
    "## Importing the API\n",
    "\n",
    "To get access to the API, we need to import the `tests4py` module."
   ],
   "metadata": {
    "collapsed": false
   },
   "id": "5e50db83da409da7"
  },
  {
   "cell_type": "code",
   "outputs": [
    {
     "name": "stderr",
     "output_type": "stream",
     "text": [
      "tests4py :: INFO     :: Loading projects\n"
     ]
    }
   ],
   "source": [
    "from pathlib import Path\n",
    "\n",
    "import tests4py.api as t4p\n",
    "from tests4py import sfl"
   ],
   "metadata": {
    "collapsed": false,
    "ExecuteTime": {
     "end_time": "2024-01-29T11:12:13.444230Z",
     "start_time": "2024-01-29T11:12:12.948110Z"
    }
   },
   "id": "10fc00f9b2adef94",
   "execution_count": 1
  },
  {
   "cell_type": "markdown",
   "source": [
    "## Retrieving the Subject\n",
    "\n",
    "As a next step we can retrieve the subject, such that we have a local copy of it to work with."
   ],
   "metadata": {
    "collapsed": false
   },
   "id": "6d79e06ac3799617"
  },
  {
   "cell_type": "code",
   "outputs": [
    {
     "name": "stderr",
     "output_type": "stream",
     "text": [
      "tests4py :: INFO     :: Copying https://github.com/smythi93/middle from /Users/marius/.t4p/projects/middle into /Users/marius/Desktop/work/projects/Tests4Py/notebooks/tmp/middle_1... \n",
      "tests4py :: INFO     :: Resetting git at /Users/marius/Desktop/work/projects/Tests4Py/notebooks/tmp/middle_1 to c0e7b35b1fba9320fe40fe143c89f6b4c7c8979d\n",
      "tests4py :: INFO     :: Creating tmp location at /Users/marius/Desktop/work/projects/Tests4Py/notebooks/tmp/tmp_middle\n",
      "tests4py :: INFO     :: Copying required files to /Users/marius/Desktop/work/projects/Tests4Py/notebooks/tmp/tmp_middle\n",
      "tests4py :: INFO     :: Checkout buggy commit id 15350ede14501997656f2fd49bd5b9af2c8d2582\n",
      "tests4py :: INFO     :: Copying required files from /Users/marius/Desktop/work/projects/Tests4Py/notebooks/tmp/tmp_middle\n",
      "tests4py :: INFO     :: Create info file\n",
      "tests4py :: INFO     :: Copying resources for middle_1\n"
     ]
    },
    {
     "data": {
      "text/plain": "{\n    \"command\": \"checkout\",\n    \"successful\": true,\n    \"project\": \"middle_1\",\n    \"location\": \"PosixPath('/Users/marius/Desktop/work/projects/Tests4Py/notebooks/tmp/middle_1')\"\n}"
     },
     "execution_count": 2,
     "metadata": {},
     "output_type": "execute_result"
    }
   ],
   "source": [
    "t4p.checkout(t4p.middle_1)"
   ],
   "metadata": {
    "collapsed": false,
    "ExecuteTime": {
     "end_time": "2024-01-29T11:12:14.366298Z",
     "start_time": "2024-01-29T11:12:14.149280Z"
    }
   },
   "id": "3949545169f557f9",
   "execution_count": 2
  },
  {
   "cell_type": "markdown",
   "source": [
    "## Instrumenting the Subject\n",
    "\n",
    "Now we can instrument the subject to retrieve the fault localization information. \n",
    "This will also install all dependencies and the subject in a virtual environment. \n",
    "It may also install the correct Python version, if it is not already installed (Note that this may take a while)."
   ],
   "metadata": {
    "collapsed": false
   },
   "id": "63bc42a0642c3304"
  },
  {
   "cell_type": "code",
   "outputs": [
    {
     "name": "stderr",
     "output_type": "stream",
     "text": [
      "tests4py :: INFO     :: Checking whether Tests4Py project\n",
      "tests4py :: INFO     :: Loading projects\n",
      "sflkit :: INFO     :: I found 11 events in /Users/marius/Desktop/work/projects/Tests4Py/notebooks/tmp/middle_1/src/middle/__init__.py.\n",
      "sflkit :: INFO     :: I found 11 events in /Users/marius/Desktop/work/projects/Tests4Py/notebooks/tmp/middle_1/src/middle/cli.py.\n",
      "sflkit :: INFO     :: I found 22 events in /Users/marius/Desktop/work/projects/Tests4Py/notebooks/tmp/middle_1.\n",
      "tests4py :: INFO     :: Checking whether Tests4Py project\n",
      "tests4py :: INFO     :: Loading projects\n",
      "tests4py :: INFO     :: Checking for platform darwin\n",
      "tests4py :: INFO     :: Check for activated python version\n",
      "tests4py :: INFO     :: Using pyenv python 3.10.9\n",
      "tests4py :: INFO     :: Activating virtual env\n",
      "tests4py :: INFO     :: Run setup\n",
      "tests4py :: INFO     :: Set compiled flag\n"
     ]
    },
    {
     "data": {
      "text/plain": "{\n    \"command\": \"sfl\",\n    \"subcommand\": \"instrument\",\n    \"successful\": true,\n    \"project\": \"middle_1\"\n}"
     },
     "execution_count": 3,
     "metadata": {},
     "output_type": "execute_result"
    }
   ],
   "source": [
    "sfl.sflkit_instrument(Path(\"tmp\", \"sfl\"), events=\"line\")"
   ],
   "metadata": {
    "collapsed": false,
    "ExecuteTime": {
     "end_time": "2024-01-29T11:12:22.722302Z",
     "start_time": "2024-01-29T11:12:16.016072Z"
    }
   },
   "id": "3dc1890ba4a6ec0e",
   "execution_count": 3
  },
  {
   "cell_type": "markdown",
   "source": [
    "## Executing the Relevant Tests\n",
    "\n",
    "Let's execute the relevant test cases to get the fault localization information."
   ],
   "metadata": {
    "collapsed": false
   },
   "id": "c46ad1515454ada0"
  },
  {
   "cell_type": "code",
   "outputs": [
    {
     "name": "stderr",
     "output_type": "stream",
     "text": [
      "tests4py :: INFO     :: Checking whether Tests4Py project\n",
      "tests4py :: INFO     :: Loading projects\n",
      "tests4py :: INFO     :: Checking for platform darwin\n",
      "tests4py :: INFO     :: Check for activated python version\n",
      "tests4py :: INFO     :: Using pyenv python 3.10.9\n",
      "tests4py :: INFO     :: Activating virtual env\n"
     ]
    },
    {
     "data": {
      "text/plain": "{\n    \"command\": \"sfl\",\n    \"subcommand\": \"events\",\n    \"successful\": true,\n    \"project\": \"middle_1\"\n}"
     },
     "execution_count": 5,
     "metadata": {},
     "output_type": "execute_result"
    }
   ],
   "source": [
    "sfl.sflkit_get_events(work_dir_or_project=Path(\"tmp\", \"sfl\"))"
   ],
   "metadata": {
    "collapsed": false,
    "ExecuteTime": {
     "end_time": "2024-01-29T11:13:06.587022Z",
     "start_time": "2024-01-29T11:13:03.924322Z"
    }
   },
   "id": "bc9c88c82b465150",
   "execution_count": 5
  },
  {
   "cell_type": "markdown",
   "source": [
    "## Summary\n",
    "\n",
    "With this information we can now conduct all kinds of experiments for evaluating various testing, repair, and debugging \n",
    "approaches. Since Tests4Py use the local copy of the subject we can modify the subject as we like and execute the\n",
    "various commands on it. These characteristics make Tests4Py a powerful tool and a benchmark of choice for those \n",
    "(and countless other) techniques."
   ],
   "metadata": {
    "collapsed": false
   },
   "id": "ba74689593abf265"
  }
 ],
 "metadata": {
  "kernelspec": {
   "display_name": "Python 3",
   "language": "python",
   "name": "python3"
  },
  "language_info": {
   "codemirror_mode": {
    "name": "ipython",
    "version": 2
   },
   "file_extension": ".py",
   "mimetype": "text/x-python",
   "name": "python",
   "nbconvert_exporter": "python",
   "pygments_lexer": "ipython2",
   "version": "2.7.6"
  }
 },
 "nbformat": 4,
 "nbformat_minor": 5
}
